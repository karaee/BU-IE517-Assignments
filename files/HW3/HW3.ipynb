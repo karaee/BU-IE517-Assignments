{
 "cells": [
  {
   "cell_type": "markdown",
   "metadata": {},
   "source": [
    "# Read and Prepare Data"
   ]
  },
  {
   "cell_type": "code",
   "execution_count": 1,
   "metadata": {},
   "outputs": [],
   "source": [
    "import math\n",
    "import re\n",
    "import os\n",
    "import random\n",
    "import numpy as np\n",
    "import pandas as pd\n",
    "import time\n",
    "from datetime import datetime\n",
    "from matplotlib import pyplot as plt"
   ]
  },
  {
   "cell_type": "code",
   "execution_count": 2,
   "metadata": {
    "code_folding": [],
    "scrolled": true
   },
   "outputs": [],
   "source": [
    "# Reading from txt file and saving it into rows variable as a list of rows\n",
    "fdir = \"fssp-data-3instances.txt\"\n",
    "f = open(fdir,\"r\")\n",
    "text = f.read()\n",
    "f.close()\n",
    "rows = text.split(\"\\n\")\n",
    "\n",
    "# Finding beginning and ending rows of related sections of problems\n",
    "instrows = map(lambda x: re.search(\"instance\", x) !=  None, rows[1:])\n",
    "instbegin = np.where(list(instrows))[0]\n",
    "\n",
    "# Trimming problem data and omitting empty rows\n",
    "ProblemText = list((rows[instbegin[0]:instbegin[1]], rows[instbegin[1]:instbegin[2]], rows[instbegin[2]:]))\n",
    "for prob in range(3):\n",
    "    ProblemText[prob] = [r.strip() for r in ProblemText[prob]  if r.strip() != \"\" ]"
   ]
  },
  {
   "cell_type": "markdown",
   "metadata": {},
   "source": [
    "# Algorithm Classes "
   ]
  },
  {
   "cell_type": "code",
   "execution_count": null,
   "metadata": {
    "code_folding": [
     0
    ]
   },
   "outputs": [],
   "source": [
    "def dist(x,y = 0):\n",
    "    return np.sqrt( np.sum((x - y)**2) )"
   ]
  },
  {
   "cell_type": "code",
   "execution_count": 3,
   "metadata": {
    "code_folding": [
     2,
     27
    ]
   },
   "outputs": [],
   "source": [
    "class Problem():\n",
    "    # Attributes: name, zstar, njob, nmachine, costmatrix\n",
    "    def __init__(self, prdata):\n",
    "        row0 = prdata[0].split(\" \")\n",
    "        row0 = [w for w in row0 if w != \"\"]\n",
    "        self.name = row0[1]\n",
    "        self.zstar = int(row0[3][:-1])\n",
    "        \n",
    "        row1 = prdata[1].split(\" \")\n",
    "        row1 = [w for w in row1 if w != \"\"]\n",
    "        self.njob = int(row1[0])\n",
    "        self.nmachine = int(row1[1])\n",
    "        \n",
    "        rowOthers = prdata[2:]\n",
    "        matList = list()\n",
    "        for r in rowOthers:\n",
    "            rowList = list()\n",
    "            for w in r.split(\" \"):\n",
    "                if w.isnumeric(): rowList.append(int(w))\n",
    "            matList.append(rowList)\n",
    "        matList2 = [ [ r[i] for i in range(1,len(r),2)] for r in matList]\n",
    "        self.costmatrix = np.stack(matList2).reshape(self.njob, self.nmachine)\n",
    "        \n",
    "    def __repr__(self):\n",
    "        rep = f\"{self.name} FSSP with {self.njob} jobs {self.nmachine} machines\"\n",
    "        return rep\n",
    "    \n",
    "    def __str__(self):\n",
    "        return self.__repr__()"
   ]
  },
  {
   "cell_type": "code",
   "execution_count": 4,
   "metadata": {
    "code_folding": [
     89,
     93
    ]
   },
   "outputs": [],
   "source": [
    "class Sol():\n",
    "    # Attributes: x, RandKey\n",
    "    # Members: F(), UpdateRandKey(), UpdateX(), Mutate()\n",
    "    def __init__(self, njobs, jobs = [], rkey = False):\n",
    "        jobs = list(jobs)\n",
    "        if rkey == True: # If solution is created using random key vector\n",
    "            if jobs != []:\n",
    "                # Check Duplicates\n",
    "                jobs = np.array(jobs)\n",
    "                counts = [(jobs == val).sum() for val in jobs]\n",
    "                idxDupl = np.where(np.array(counts) > 1)[0]; lDupl = len(idxDupl)\n",
    "                if lDupl:\n",
    "                    jobs[idxDupl] += np.random.choice(range(lDupl),lDupl,replace=False)*1.e-6\n",
    "                jobs = list(jobs)\n",
    "            if len(jobs) > njobs:\n",
    "                self.RandKey = np.random.choice(jobs,njobs,replace=False)\n",
    "                print(\"List length exceeds njobs. Randomly selected\")\n",
    "            elif len(jobs) == njobs: self.RandKey = jobs\n",
    "            else:\n",
    "                missing = njobs - len(jobs)\n",
    "                newR = np.random.random(missing)\n",
    "                self.RandKey = jobs + [newR]\n",
    "            self.UpdateX()\n",
    "            \n",
    "        else: # If permutation solution will be created first\n",
    "            if jobs != []:\n",
    "                adjJobs = [np.where(np.sort(jobs) == j )[0][0] for j in jobs]\n",
    "                jobs = list(adjJobs) # Input vector is adjusted\n",
    "            \n",
    "            if len(jobs) > njobs:\n",
    "                self.x = np.random.choice(jobs,njobs,replace=False)\n",
    "                print(\"List length exceeds njobs. Randomly selected\")\n",
    "            elif len(jobs) == njobs: self.x = jobs\n",
    "            else:\n",
    "                jobsNotSelected = [j for j in list(range(njobs)) if j not in jobs]\n",
    "                randomJobs = np.random.choice(jobsNotSelected,njobs - len(jobs) ,replace=False)\n",
    "                self.x = jobs + list(randomJobs)\n",
    "            self.UpdateRandKey()\n",
    "         \n",
    "    def F(self, Prob): # Fitness (Cost) Function: Calculates Makespan\n",
    "        tBegin = np.matrix((Prob.njob*Prob.nmachine)*[0]).reshape(Prob.njob,Prob.nmachine)\n",
    "        tEnd = np.matrix((Prob.njob*Prob.nmachine)*[float('inf')]).reshape(Prob.njob,Prob.nmachine)\n",
    "        \n",
    "        tBegin[0,0] = 0; tEnd[0,0] = Prob.costmatrix[self.x[0],0]\n",
    "        for orderJ in range(1,Prob.njob):\n",
    "            tBegin[orderJ,0] = tEnd[orderJ-1,0]\n",
    "            tEnd[orderJ,0] = tBegin[orderJ,0] + Prob.costmatrix[self.x[orderJ],0] \n",
    "        \n",
    "        for m in range(1,Prob.nmachine):\n",
    "            tBegin[0,m] = tEnd[0,m-1]\n",
    "            tEnd[0,m] = tBegin[0,m] + Prob.costmatrix[self.x[0],m]\n",
    "            for orderJ in range(1,Prob.njob):\n",
    "                tBegin[orderJ,m] = max(tEnd[orderJ,m-1], tEnd[orderJ-1,m])\n",
    "                tEnd[orderJ,m] = tBegin[orderJ,m] + Prob.costmatrix[self.x[orderJ],m]\n",
    "        \n",
    "        return tEnd[-1,-1]\n",
    "    \n",
    "    def UpdateRandKey(self): # To create random key from permutation representation\n",
    "        n = len(self.x)\n",
    "        Rvector = np.random.random(n)\n",
    "        Rvector = list(np.sort(Rvector))\n",
    "        RandKey = Rvector.copy()\n",
    "        for i in range(n):\n",
    "            RandKey[self.x[i]] = Rvector[i]\n",
    "        \n",
    "        # Check Duplicates\n",
    "        RandKey = np.array(RandKey)\n",
    "        counts = [(RandKey == val).sum() for val in RandKey]\n",
    "        idxDupl = np.where(np.array(counts) > 1)[0]; lDupl = len(idxDupl)\n",
    "        if lDupl:\n",
    "            RandKey[idxDupl] += np.random.choice(range(lDupl),lDupl,replace=False)*1.e-6\n",
    "        RandKey = list(RandKey)\n",
    "        \n",
    "        self.RandKey = list(RandKey)\n",
    "        \n",
    "    def UpdateX(self): # To create permutation representation from random key\n",
    "        Rvector = list(np.sort(self.RandKey))\n",
    "        newX = [np.where(self.RandKey == R )[0][0] for R in Rvector]\n",
    "        self.x = newX\n",
    "    \n",
    "    def Mutate(self): # Mutate solution and return mutated solution object\n",
    "        n = len(self.x)\n",
    "        swap = np.random.choice(n,2, replace = False)\n",
    "        idx = list(range(n))\n",
    "        idx[swap[0]] = swap[1]\n",
    "        idx[swap[1]] = swap[0]\n",
    "        newRandKeys = list(np.array(self.RandKey)[idx])\n",
    "        return Sol(n, newRandKeys, rkey = True)\n",
    "    \n",
    "    def __repr__(self):\n",
    "        rep = f\"Solution: {self.x}\"\n",
    "        return rep\n",
    "\n",
    "    def __str__(self):\n",
    "        return self.__repr__()"
   ]
  },
  {
   "cell_type": "code",
   "execution_count": 5,
   "metadata": {
    "code_folding": [
     3,
     36
    ]
   },
   "outputs": [],
   "source": [
    "class Pairs(): # Pairs of solutions to use for crossover\n",
    "    # Attributes: M, Sols\n",
    "    # Members: XO(), Mutation()\n",
    "    def __init__(self, Sols ):\n",
    "        self.Sols = Sols\n",
    "        self.M  = int(len(Sols)/2)\n",
    "        \n",
    "    def XO(self): # Crossover y_(2i) and y_(2i+1) i = 0,1,...,M-1\n",
    "        children = list()\n",
    "        n = len(self.Sols[0].x)\n",
    "        for i in range(self.M):\n",
    "            cuts = np.random.choice(range(1,n),2,replace = False)\n",
    "            cuts = np.sort(cuts)\n",
    "            o1x = self.Sols[2*i].RandKey[:cuts[0]] +\\\n",
    "                self.Sols[2*i+1].RandKey[cuts[0]:cuts[1]] +\\\n",
    "                self.Sols[2*i].RandKey[cuts[1]:]\n",
    "            \n",
    "            o2x = self.Sols[2*i+1].RandKey[:cuts[0]] +\\\n",
    "                self.Sols[2*i].RandKey[cuts[0]:cuts[1]] +\\\n",
    "                self.Sols[2*i+1].RandKey[cuts[1]:]\n",
    "            \n",
    "            o1 = Sol(n,o1x,rkey=True); o2 = Sol(n,o2x,rkey=True);\n",
    "            children += [o1,o2]\n",
    "        \n",
    "        return Pairs(children)\n",
    "    \n",
    "    def Mutation(self, mu): # Apply mutation with probability mu to all solutions\n",
    "        pmPairs = list()\n",
    "        for s in self.Sols:\n",
    "            R = np.random.random()\n",
    "            if R <= mu:\n",
    "                pmPairs += [s.Mutate()]\n",
    "            else:\n",
    "                pmPairs += [s]\n",
    "        return Pairs(pmPairs)\n",
    "        \n",
    "    def __repr__(self):\n",
    "        rep = f\"{self.M} pairs of solutions\"\n",
    "        return rep\n",
    "\n",
    "    def __str__(self):\n",
    "        return self.__repr__()"
   ]
  },
  {
   "cell_type": "code",
   "execution_count": 6,
   "metadata": {
    "code_folding": [
     3,
     29,
     34,
     52,
     56
    ]
   },
   "outputs": [],
   "source": [
    "class Generation(): # One generation of solutions of size N\n",
    "    # Attributes: N, Sols, iStar, solStar, Fstar, M, iParents, iBads    ###\n",
    "    # Members: NewGeneration(), SelectParents(), FindBadSols(), Replacement()\n",
    "    def __init__(self, Sols, Prob, M):\n",
    "        self.N = len(Sols)\n",
    "        self.Sols = Sols\n",
    "        self.M = M\n",
    "        self.Fstar = 1.e+9\n",
    "        for i in range(self.N):\n",
    "            if Sols[i].F(Prob) < self.Fstar:\n",
    "                self.solStar = Sols[i]\n",
    "                self.iStar = i\n",
    "                self.Fstar = Sols[i].F(Prob)\n",
    "        self.iParents = []\n",
    "        self.iBads = []\n",
    "                \n",
    "    def NewGeneration(self, M, mu, Prob): # Obtain new generation using Genetic Algorithm\n",
    "        Parents = self.SelectParents(M, Prob)\n",
    "        Children = Parents.XO()\n",
    "        PMchildren = Children.Mutation(mu)\n",
    "        self.FindBadSols(Prob)\n",
    "        NewGen = self.Replacement(PMchildren, Prob)\n",
    "        return NewGen\n",
    "        \n",
    "    def SelectParents(self, M, Prob): # Roulette Wheel selection of parents\n",
    "        p = self.RWprobs(Prob, self.Sols)\n",
    "        self.iParents = list(np.random.choice(self.N, 2*M, replace = False,p = p))\n",
    "        return Pairs([self.Sols[i] for i in self.iParents ])\n",
    "        \n",
    "    def FindBadSols(self, Prob):\n",
    "        p = self.RWprobs(Prob, [self.Sols[i] for i in range(self.N) if i not in self.iParents ], best = False)\n",
    "        self.iBads = list(np.random.choice([i for i in range(self.N) if i not in self.iParents],\\\n",
    "                                           2*self.M, replace = False,p = p))\n",
    "    \n",
    "    def Replacement(self, newMembers, Prob):\n",
    "        newSols = self.Sols.copy()\n",
    "        for i in range(2*self.M):\n",
    "            oldi = self.iBads[i]\n",
    "            newSols[oldi] = newMembers.Sols[i]\n",
    "        return Generation(newSols,Prob,self.M)\n",
    "            \n",
    "    def RWprobs(self, Prob, slns, best = True):\n",
    "        Fvalues = [s.F(Prob) for s in slns]\n",
    "        minF = min(Fvalues); maxF = max(Fvalues)\n",
    "        if best:\n",
    "            # For parents, raw prob's are difference from max. F of the population\n",
    "            pivot = maxF\n",
    "        else:\n",
    "            # For bad sol's, raw prob's are difference from min. F of the population\n",
    "            pivot = minF\n",
    "        rawP = np.abs(np.array(Fvalues)-pivot) + 1.e-9\n",
    "        p = rawP/np.sum(rawP) # Normalizing probabilities\n",
    "        return list(p)\n",
    "    \n",
    "    def __repr__(self):\n",
    "        rep = f\"Gen. Size: {self.N}\\nF* = {self.Fstar}\\nx* = {self.solStar}\"\n",
    "        return rep\n",
    "\n",
    "    def __str__(self):\n",
    "        return self.__repr__()"
   ]
  },
  {
   "cell_type": "code",
   "execution_count": 7,
   "metadata": {
    "code_folding": [
     4,
     40,
     44
    ]
   },
   "outputs": [],
   "source": [
    "class GAsolver(): # GA solver object\n",
    "    # Attributes: Prob, Gens, N, MaxGen, M, mu, itr, Fstar, solStar\n",
    "    # Members: Solve(), InitGen()\n",
    "    \n",
    "    def __init__(self, Prob, N, MaxGen, M, mu):\n",
    "        self.Prob = Prob\n",
    "        self.N = N\n",
    "        self.MaxGen = MaxGen\n",
    "        self.M = M\n",
    "        self.mu = mu\n",
    "        self.Gens = list()\n",
    "        self.Gens = self.Gens + [self.InitGen(self.Prob)]\n",
    "        self.itr = 0\n",
    "        self.Fstar = self.Gens[0].Fstar\n",
    "        self.solStar = self.Gens[0].solStar\n",
    "\n",
    "    def InitGen(self, Prob):\n",
    "        # Initial population is created so that\n",
    "        # each solution's first job is evenly selected among all possible jobs\n",
    "        if self.N < self.Prob.njob: FirstJobs = np.random.choice(self.Prob.njob, self.N, replace = False)\n",
    "        else: FirstJobs = np.random.choice(self.Prob.njob, self.Prob.njob, replace = False)\n",
    "        \n",
    "        Sols = list()\n",
    "        for s in range(self.N):\n",
    "            Sols += [Sol(self.Prob.njob, [FirstJobs[s%len(FirstJobs)]])]\n",
    "        \n",
    "        return Generation(Sols, self.Prob, self.M )\n",
    "       \n",
    "    def Solve(self): # Running Genetic Algorithm \n",
    "        while self.itr < self.MaxGen: # until maximum number of generations is reached\n",
    "            self.Gens += [self.Gens[-1].NewGeneration(self.M, self.mu, self.Prob)]\n",
    "            if self.Fstar > self.Gens[-1].Fstar:\n",
    "                self.Fstar = self.Gens[-1].Fstar\n",
    "                self.solStar = self.Gens[-1].solStar\n",
    "            self.itr += 1\n",
    "            if self.itr%10 == 0:\n",
    "                print(f\"i={self.itr}, F*={self.Fstar}\")\n",
    "        print(f\"Algorithm ended in {self.itr} iteration\\nF*={self.Fstar}\")\n",
    "        return self.Fstar\n",
    "    \n",
    "    def __repr__(self):\n",
    "        rep = f\"GA Solver\\nPop. size :{self.N}\\n# of Generations: {len(self.Gens)}\"\n",
    "        return rep\n",
    "    \n",
    "    def __str__(self):\n",
    "        return self.__repr__()"
   ]
  },
  {
   "cell_type": "markdown",
   "metadata": {},
   "source": [
    "# Running Algorithm "
   ]
  },
  {
   "cell_type": "code",
   "execution_count": 8,
   "metadata": {
    "scrolled": true
   },
   "outputs": [
    {
     "data": {
      "text/plain": [
       "[car1 FSSP with 8 jobs 4 machines,\n",
       " reC05 FSSP with 13 jobs 5 machines,\n",
       " reC09 FSSP with 20 jobs 5 machines]"
      ]
     },
     "execution_count": 8,
     "metadata": {},
     "output_type": "execute_result"
    }
   ],
   "source": [
    "ProbList = [ Problem(ProblemText[i]) for i in [0,1,2] ]; ProbList"
   ]
  },
  {
   "cell_type": "markdown",
   "metadata": {},
   "source": [
    "## car1 Problem"
   ]
  },
  {
   "cell_type": "code",
   "execution_count": 9,
   "metadata": {},
   "outputs": [
    {
     "data": {
      "text/plain": [
       "GA Solver\n",
       "Pop. size :100\n",
       "# of Generations: 1"
      ]
     },
     "execution_count": 9,
     "metadata": {},
     "output_type": "execute_result"
    }
   ],
   "source": [
    "np.random.seed(11)\n",
    "obj = GAsolver(ProbList[0], N = 100, MaxGen = 50, M = 20, mu = 0.25); obj"
   ]
  },
  {
   "cell_type": "code",
   "execution_count": 10,
   "metadata": {
    "scrolled": true
   },
   "outputs": [
    {
     "name": "stdout",
     "output_type": "stream",
     "text": [
      "i=10, F*=4700.0\n",
      "i=20, F*=4534.0\n",
      "i=30, F*=4534.0\n",
      "i=40, F*=4534.0\n",
      "i=50, F*=4534.0\n",
      "Algorithm ended in 50 iteration\n",
      "F*=4534.0\n",
      "Executed in 3.5937500000000004 CPU*seconds.\n",
      "Glob. Opt: 4534\n",
      "0.00% larger than Glob. Opt.\n"
     ]
    }
   ],
   "source": [
    "tstart = time.process_time_ns()\n",
    "F1 = obj.Solve()\n",
    "tend = time.process_time_ns()\n",
    "print(f\"Executed in {1.e-9*(tend - tstart)} CPU*seconds.\")\n",
    "print(f\"Glob. Opt: {ProbList[0].zstar}\")\n",
    "print(f\"{100*( F1/ProbList[0].zstar-1):.2f}% larger than Glob. Opt.\")"
   ]
  },
  {
   "cell_type": "code",
   "execution_count": 11,
   "metadata": {},
   "outputs": [
    {
     "data": {
      "text/plain": [
       "Solution: [7, 6, 4, 2, 5, 1, 0, 3]"
      ]
     },
     "execution_count": 11,
     "metadata": {},
     "output_type": "execute_result"
    }
   ],
   "source": [
    "obj.solStar"
   ]
  },
  {
   "cell_type": "code",
   "execution_count": 12,
   "metadata": {},
   "outputs": [
    {
     "data": {
      "text/plain": [
       "4603.274509803921"
      ]
     },
     "execution_count": 12,
     "metadata": {},
     "output_type": "execute_result"
    },
    {
     "data": {
      "image/png": "[encoded data removed]",
      "text/plain": [
       "<Figure size 432x288 with 1 Axes>"
      ]
     },
     "metadata": {
      "needs_background": "light"
     },
     "output_type": "display_data"
    }
   ],
   "source": [
    "FstarVals = [ g.Fstar  for g in obj.Gens   ]; plt.plot (FstarVals); np.mean(FstarVals)"
   ]
  },
  {
   "cell_type": "markdown",
   "metadata": {},
   "source": [
    "## reC05 Problem"
   ]
  },
  {
   "cell_type": "code",
   "execution_count": 13,
   "metadata": {},
   "outputs": [
    {
     "data": {
      "text/plain": [
       "GA Solver\n",
       "Pop. size :50\n",
       "# of Generations: 1"
      ]
     },
     "execution_count": 13,
     "metadata": {},
     "output_type": "execute_result"
    }
   ],
   "source": [
    "np.random.seed(12)\n",
    "obj2 = GAsolver(ProbList[1], N = 50, MaxGen = 40, M = 10, mu = 0.25); obj2"
   ]
  },
  {
   "cell_type": "code",
   "execution_count": 14,
   "metadata": {},
   "outputs": [
    {
     "name": "stdout",
     "output_type": "stream",
     "text": [
      "i=10, F*=940.0\n",
      "i=20, F*=939.0\n",
      "i=30, F*=939.0\n",
      "i=40, F*=939.0\n",
      "Algorithm ended in 40 iteration\n",
      "F*=939.0\n",
      "Executed in 3.015625 CPU*seconds.\n",
      "Glob. Opt: 920\n",
      "2.07% larger than Glob. Opt.\n"
     ]
    }
   ],
   "source": [
    "tstart = time.process_time_ns()\n",
    "F2 = obj2.Solve()\n",
    "tend = time.process_time_ns()\n",
    "print(f\"Executed in {1.e-9*(tend - tstart)} CPU*seconds.\")\n",
    "print(f\"Glob. Opt: {ProbList[1].zstar}\")\n",
    "print(f\"{100*( F2/ProbList[1].zstar-1):.2f}% larger than Glob. Opt.\")"
   ]
  },
  {
   "cell_type": "code",
   "execution_count": 15,
   "metadata": {},
   "outputs": [
    {
     "data": {
      "text/plain": [
       "Solution: [4, 2, 0, 5, 11, 8, 12, 10, 7, 6, 1, 9, 3]"
      ]
     },
     "execution_count": 15,
     "metadata": {},
     "output_type": "execute_result"
    }
   ],
   "source": [
    "obj2.solStar"
   ]
  },
  {
   "cell_type": "code",
   "execution_count": 16,
   "metadata": {},
   "outputs": [
    {
     "data": {
      "text/plain": [
       "947.8780487804878"
      ]
     },
     "execution_count": 16,
     "metadata": {},
     "output_type": "execute_result"
    },
    {
     "data": {
      "image/png": "[encoded data removed]",
      "text/plain": [
       "<Figure size 432x288 with 1 Axes>"
      ]
     },
     "metadata": {
      "needs_background": "light"
     },
     "output_type": "display_data"
    }
   ],
   "source": [
    "FstarVals2 = [ g.Fstar  for g in obj2.Gens   ]; plt.plot (FstarVals2); np.mean(FstarVals2)"
   ]
  },
  {
   "cell_type": "markdown",
   "metadata": {},
   "source": [
    "## reC09 Problem"
   ]
  },
  {
   "cell_type": "code",
   "execution_count": 17,
   "metadata": {},
   "outputs": [
    {
     "data": {
      "text/plain": [
       "GA Solver\n",
       "Pop. size :50\n",
       "# of Generations: 1"
      ]
     },
     "execution_count": 17,
     "metadata": {},
     "output_type": "execute_result"
    }
   ],
   "source": [
    "np.random.seed(11)\n",
    "obj3 = GAsolver(ProbList[2], N = 50, MaxGen = 40, M = 10, mu = 0.25); obj3"
   ]
  },
  {
   "cell_type": "code",
   "execution_count": 18,
   "metadata": {
    "scrolled": false
   },
   "outputs": [
    {
     "name": "stdout",
     "output_type": "stream",
     "text": [
      "i=10, F*=1426.0\n",
      "i=20, F*=1349.0\n",
      "i=30, F*=1339.0\n",
      "i=40, F*=1318.0\n",
      "Algorithm ended in 40 iteration\n",
      "F*=1318.0\n",
      "Executed in 4.296875 CPU*seconds.\n",
      "Glob. Opt: 1302\n",
      "1.23% larger than Glob. Opt.\n"
     ]
    }
   ],
   "source": [
    "tstart = time.process_time_ns()\n",
    "F3 = obj3.Solve()\n",
    "tend = time.process_time_ns()\n",
    "print(f\"Executed in {1.e-9*(tend - tstart)} CPU*seconds.\")\n",
    "print(f\"Glob. Opt: {ProbList[2].zstar}\")\n",
    "print(f\"{100*( F3/ProbList[2].zstar-1):.2f}% larger than Glob. Opt.\")"
   ]
  },
  {
   "cell_type": "code",
   "execution_count": 19,
   "metadata": {},
   "outputs": [
    {
     "data": {
      "text/plain": [
       "Solution: [18, 8, 17, 14, 16, 3, 2, 13, 6, 0, 11, 7, 4, 15, 19, 9, 12, 5, 10, 1]"
      ]
     },
     "execution_count": 19,
     "metadata": {},
     "output_type": "execute_result"
    }
   ],
   "source": [
    "obj3.solStar"
   ]
  },
  {
   "cell_type": "code",
   "execution_count": 20,
   "metadata": {},
   "outputs": [
    {
     "data": {
      "text/plain": [
       "1383.7073170731708"
      ]
     },
     "execution_count": 20,
     "metadata": {},
     "output_type": "execute_result"
    },
    {
     "data": {
      "image/png": "[encoded data removed]",
      "text/plain": [
       "<Figure size 432x288 with 1 Axes>"
      ]
     },
     "metadata": {
      "needs_background": "light"
     },
     "output_type": "display_data"
    }
   ],
   "source": [
    "FstarVals3 = [ g.Fstar  for g in obj3.Gens   ]; plt.plot (FstarVals3); np.mean(FstarVals3)"
   ]
  }
 ],
 "metadata": {
  "kernelspec": {
   "display_name": "Python 3",
   "language": "python",
   "name": "python3"
  },
  "language_info": {
   "codemirror_mode": {
    "name": "ipython",
    "version": 3
   },
   "file_extension": ".py",
   "mimetype": "text/x-python",
   "name": "python",
   "nbconvert_exporter": "python",
   "pygments_lexer": "ipython3",
   "version": "3.8.3"
  }
 },
 "nbformat": 4,
 "nbformat_minor": 4
}
