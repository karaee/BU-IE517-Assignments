{
 "cells": [
  {
   "cell_type": "markdown",
   "metadata": {},
   "source": [
    "# Read and Prepare Data"
   ]
  },
  {
   "cell_type": "code",
   "execution_count": 1,
   "metadata": {},
   "outputs": [],
   "source": [
    "import math\n",
    "import re\n",
    "import os\n",
    "import random\n",
    "import numpy as np\n",
    "import pandas as pd\n",
    "import time\n",
    "from datetime import datetime\n",
    "from matplotlib import pyplot as plt"
   ]
  },
  {
   "cell_type": "markdown",
   "metadata": {},
   "source": [
    "Reading from txt file and saving it into *rows* variable as a list of rows"
   ]
  },
  {
   "cell_type": "code",
   "execution_count": 2,
   "metadata": {},
   "outputs": [],
   "source": [
    "f = open(\"gap-data-3instances.txt\",\"r\")\n",
    "text = f.read()\n",
    "f.close()\n",
    "rows = text.split(\"\\n\")"
   ]
  },
  {
   "cell_type": "code",
   "execution_count": 3,
   "metadata": {},
   "outputs": [
    {
     "data": {
      "text/plain": [
       "3"
      ]
     },
     "execution_count": 3,
     "metadata": {},
     "output_type": "execute_result"
    }
   ],
   "source": [
    "len(re.findall(\"Problem\", text)) # Counting occurences of problem word: 3 Occurences"
   ]
  },
  {
   "cell_type": "markdown",
   "metadata": {},
   "source": [
    "Fİnding beginning and ending rows of related sections of problems"
   ]
  },
  {
   "cell_type": "code",
   "execution_count": 4,
   "metadata": {},
   "outputs": [
    {
     "data": {
      "text/plain": [
       "array([11, 30, 55], dtype=int64)"
      ]
     },
     "execution_count": 4,
     "metadata": {},
     "output_type": "execute_result"
    }
   ],
   "source": [
    "prrows = map(lambda x: re.search(\"Problem\", x) !=  None, rows)\n",
    "prbegin = np.where(list(prrows))[0]; prbegin"
   ]
  },
  {
   "cell_type": "markdown",
   "metadata": {},
   "source": [
    "Trimming problem data and omitting empty rows"
   ]
  },
  {
   "cell_type": "code",
   "execution_count": 5,
   "metadata": {
    "code_folding": [],
    "scrolled": true
   },
   "outputs": [],
   "source": [
    "ProblemData = list((rows[prbegin[0]:prbegin[1]-1], rows[prbegin[1]:prbegin[2]-1], rows[prbegin[2]:]))\n",
    "for prob in range(3):\n",
    "    ProblemData[prob] = [r.strip() for r in ProblemData[prob]  if r.strip() != \"\" ]"
   ]
  },
  {
   "cell_type": "markdown",
   "metadata": {},
   "source": [
    "Funciton to create datasets for problems"
   ]
  },
  {
   "cell_type": "code",
   "execution_count": 6,
   "metadata": {},
   "outputs": [],
   "source": [
    "def CreateProblem(obj):\n",
    "    zstar = int(obj[0][obj[0].find(\"=\") + 1  : obj[0].find(\"(\")])\n",
    "    m,n = obj[1].split(\" \")\n",
    "    m,n = int(m), int(n)\n",
    "    OpCost = np.matrix([ list(map( int, r.split(\" \") )) for r in obj[2:2+m] ])\n",
    "    CapCost = np.matrix([ list(map( int, r.split(\" \") )) for r in obj[2+m:2+2*m] ])\n",
    "    Capacity = np.array(list(map( int, obj[2+2*m].split(\" \") )))\n",
    "    \n",
    "    return{\"zstar\":zstar, \"m\":m, \"n\":n, \"OpCost\":OpCost, \"CapCost\":CapCost, \"Cap\": Capacity}\n",
    "    "
   ]
  },
  {
   "cell_type": "code",
   "execution_count": 7,
   "metadata": {
    "scrolled": true
   },
   "outputs": [],
   "source": [
    "ProbDataSets = list(map(CreateProblem, ProblemData))"
   ]
  },
  {
   "cell_type": "markdown",
   "metadata": {},
   "source": [
    "In solutions, indexings of agents and jobs are as following:\n",
    "\n",
    "agents: 0, 1, ... , m-1  \n",
    "jobs: 0, 1, ... , n-1\n",
    "\n",
    "This approach is used due to Python's indexing convention."
   ]
  },
  {
   "cell_type": "markdown",
   "metadata": {},
   "source": [
    "# Algorithms"
   ]
  },
  {
   "cell_type": "markdown",
   "metadata": {},
   "source": [
    "## Construction Heuristic "
   ]
  },
  {
   "cell_type": "markdown",
   "metadata": {},
   "source": [
    "Solution is constructed adding one by one assignments starting from those which yields smallest $OpCost\\times CapCost$ valeus (NegValues). If two or more assignments have equal negative values, they are sorted randomly within. This is the only randomness in the algorithm."
   ]
  },
  {
   "cell_type": "code",
   "execution_count": 8,
   "metadata": {
    "code_folding": []
   },
   "outputs": [],
   "source": [
    "def SortMatchings(CostMatrix):\n",
    "    # Function to sort assignments with respect to a given cost matrix\n",
    "    SortedValues = list(np.squeeze(np.array(np.sort(CostMatrix).reshape(1,-1))))\n",
    "    SortedValues = list(np.unique(SortedValues))\n",
    "    Matchings = list(map(lambda x:\n",
    "                 np.random.permutation( # If there are even assignments, sort them randomly\n",
    "                     np.squeeze(\n",
    "                         np.stack(\n",
    "                             np.where(CostMatrix==x), 1)\n",
    "                     ).\n",
    "                     reshape(-1,2)\n",
    "                 )\n",
    "                 ,\n",
    "                 SortedValues ))\n",
    "    Matchings = np.stack(np.concatenate(Matchings))\n",
    "    return Matchings"
   ]
  },
  {
   "cell_type": "code",
   "execution_count": 9,
   "metadata": {
    "code_folding": [
     0
    ]
   },
   "outputs": [],
   "source": [
    "def CostProductConstructionHeuristic(Dataset):\n",
    "    \n",
    "    # Get Variables\n",
    "    zstar = Dataset[\"zstar\"]\n",
    "    m = Dataset[\"m\"]\n",
    "    n = Dataset[\"n\"]\n",
    "    OpCost = Dataset[\"OpCost\"]\n",
    "    CapCost = Dataset[\"CapCost\"]\n",
    "    Cap = Dataset[\"Cap\"]\n",
    "    \n",
    "    # Calculate products of costs so called Negative Values\n",
    "    NegValue = np.multiply(OpCost, CapCost)\n",
    "    \n",
    "    # Sort Agent-Job Matchings with respect to Negative Values \n",
    "    SortedMatchings = SortMatchings(NegValue)\n",
    "    \n",
    "    Crem = Cap.copy() # Remaining Capacity\n",
    "    xlist = list() # X\n",
    "    z = 0 # Z\n",
    "    unassigned = list(range(n)) # Unassigned Jobs\n",
    "    \n",
    "    for r in SortedMatchings:\n",
    "        if  (Crem[r[0]] - CapCost[r[0],r[1]] >= 0\n",
    "             and r[1] in unassigned):\n",
    "            # If remaining capacity permits:\n",
    "            Crem[r[0]] = Crem[r[0]] - CapCost[r[0],r[1]] # Reduce Capacity\n",
    "            unassigned.remove((r[1])) # Remove job from unassigned list\n",
    "            xlist.append(r) # Add mathcing to the solution\n",
    "            z = z + OpCost[r[0],r[1]] #Sum up operational costs\n",
    "    \n",
    "    # Converting solution to a dictionary for convenience\n",
    "    xlist = np.stack(xlist)\n",
    "    x = dict()\n",
    "    for i in range(m):\n",
    "        x[i] = xlist[xlist[:,0] == i][:,1]\n",
    "    for key in x.keys():\n",
    "        x[key] = list(np.sort(x[key]))\n",
    "        \n",
    "    # Print message if any unassigned job exists\n",
    "    if unassigned != []:\n",
    "        print(f\"These jobs are unassigned: {unassigned}\")\n",
    "    \n",
    "    # Function returns X, Z and Crem\n",
    "    # which can be used again in iterations\n",
    "    return (x,z,list(Crem))"
   ]
  },
  {
   "cell_type": "markdown",
   "metadata": {},
   "source": [
    "## Improvement Heuristic"
   ]
  },
  {
   "cell_type": "markdown",
   "metadata": {},
   "source": [
    "**1-1 Exchange Neighborhood** is used in the solution. Function used to move to the best solution in the 1-1 Exchange neighborhood of a predetermined solution is given below. If there are more than one local optima, one of them is selected randomly:"
   ]
  },
  {
   "cell_type": "code",
   "execution_count": 10,
   "metadata": {
    "code_folding": [
     0
    ],
    "scrolled": false
   },
   "outputs": [],
   "source": [
    "def OneOneExchangeMove(ProbData, Solution):\n",
    "    \n",
    "    # Get Problem Data Variables\n",
    "    zstar = ProbData[\"zstar\"]\n",
    "    m = ProbData[\"m\"]\n",
    "    n = ProbData[\"n\"]\n",
    "    OpCost = ProbData[\"OpCost\"]\n",
    "    CapCost = ProbData[\"CapCost\"]\n",
    "    Cap = ProbData[\"Cap\"]\n",
    "\n",
    "    # Get Solution Variables\n",
    "    X = Solution[0].copy()\n",
    "    Z = Solution[1].copy()\n",
    "    Crem = Solution[2].copy()\n",
    "    \n",
    "    # Define Algorithm Variables\n",
    "    selected = list() # To select unordered pairs of agents\n",
    "    BestDeltaOpCost = 0 # Local Z*\n",
    "    BestSwap = list() # Local X*\n",
    "    \n",
    "    for agent1 in X.keys():\n",
    "        selected.append(agent1)\n",
    "        for agent2 in X.keys():\n",
    "            if agent2 in selected: continue\n",
    "            for job1 in X[agent1]:\n",
    "                for job2 in X[agent2]:\n",
    "                    \n",
    "                    DeltaOpCost = OpCost[agent1,job2] \\\n",
    "                    + OpCost[agent2,job1] \\\n",
    "                    - OpCost[agent1,job1] \\\n",
    "                    - OpCost[agent2,job2]\n",
    "                    \n",
    "                    CRemAgent1New = Crem[agent1] \\\n",
    "                    + CapCost[agent1,job1] \\\n",
    "                    - CapCost[agent1,job2]\n",
    "                    \n",
    "                    CRemAgent2New = Crem[agent2] \\\n",
    "                    + CapCost[agent2,job2] \\\n",
    "                    - CapCost[agent2,job1]\n",
    "                    \n",
    "                    if ((CRemAgent1New > 0) and (CRemAgent2New > 0)): # If feasible\n",
    "                        \n",
    "                        if BestDeltaOpCost > DeltaOpCost: # If Z is better than best Z* found so far\n",
    "                            BestDeltaOpCost = DeltaOpCost\n",
    "                            BestSwap = [[(agent1,job1),(agent2,job2)]]\n",
    "  \n",
    "                        elif ((DeltaOpCost < 0) and (BestDeltaOpCost == DeltaOpCost)): # In case of equality\n",
    "                            BestSwap.append([(agent1,job1),(agent2,job2)])\n",
    "        \n",
    "    if BestSwap == []:\n",
    "        # Print message if the algorithm is complete\n",
    "        print(\"Local Search is complete!\")\n",
    "        return None\n",
    "    \n",
    "    # In case of equality select one randomly\n",
    "    BestSwap = random.sample(BestSwap,1)[0] \n",
    "    \n",
    "    # Remove old pair and add new pair from and to the selected agent 1\n",
    "    X[BestSwap[0][0]] = np.union1d( np.setdiff1d( X[BestSwap[0][0]],\n",
    "                                                 BestSwap[0][1] ),\n",
    "                                   BestSwap[1][1] )\n",
    "    \n",
    "    # Remove old pair and add new pair from and to the selected agent 2\n",
    "    X[BestSwap[1][0]] = np.union1d( np.setdiff1d( X[BestSwap[1][0]],\n",
    "                                                 BestSwap[1][1] ),\n",
    "                                   BestSwap[0][1] )\n",
    "    \n",
    "    Z = Z + BestDeltaOpCost # Update Z\n",
    "    \n",
    "    # Update Crem for selected agent 1\n",
    "    Crem[BestSwap[0][0]] = Crem[BestSwap[0][0]] \\\n",
    "    + CapCost[BestSwap[0][0],BestSwap[0][1]] \\\n",
    "    - CapCost[BestSwap[0][0],BestSwap[1][1]]\n",
    "    \n",
    "    # Update Crem for selected agent 2\n",
    "    Crem[BestSwap[1][0]] = Crem[BestSwap[1][0]] \\\n",
    "    + CapCost[BestSwap[1][0],BestSwap[1][1]] \\\n",
    "    - CapCost[BestSwap[1][0],BestSwap[0][1]]\n",
    "\n",
    "    # Function returns X, Z and Crem\n",
    "    # which can be used again in iterations\n",
    "    return (X,Z,Crem)"
   ]
  },
  {
   "cell_type": "code",
   "execution_count": 11,
   "metadata": {
    "code_folding": [
     0
    ],
    "scrolled": true
   },
   "outputs": [],
   "source": [
    "def OneOneExchangeLocalSearch(ProbData, Solutions, timelimit):\n",
    "    Sols = Solutions.copy()\n",
    "    t1 = datetime.now()\n",
    "    while(1):\n",
    "        realtime = (datetime.now() - t1).total_seconds() # Calculate duration\n",
    "        newsln = OneOneExchangeMove(ProbData,Sols[-1]) # Call move operator\n",
    "        if ((newsln == None) # If no better solution can be found\n",
    "            or (realtime > timelimit)): # If the real time duration exceeds given limit\n",
    "            break\n",
    "        \n",
    "        Sols.append(newsln)\n",
    "        \n",
    "        if Sols.count(None) > 0: Sols.remove(None)\n",
    "    return Sols"
   ]
  },
  {
   "cell_type": "markdown",
   "metadata": {},
   "source": [
    "# Problem 1 "
   ]
  },
  {
   "cell_type": "code",
   "execution_count": 12,
   "metadata": {},
   "outputs": [],
   "source": [
    "slns = list() # All solutions will be stored in this list\n",
    "zstar = ProbDataSets[0][\"zstar\"]"
   ]
  },
  {
   "cell_type": "markdown",
   "metadata": {},
   "source": [
    "## Construction Heuristic"
   ]
  },
  {
   "cell_type": "code",
   "execution_count": 13,
   "metadata": {},
   "outputs": [
    {
     "name": "stdout",
     "output_type": "stream",
     "text": [
      "Executed in 0.0 CPU*seconds.\n"
     ]
    }
   ],
   "source": [
    "tstart = time.process_time_ns()\n",
    "\n",
    "random.seed(11)\n",
    "newsln = CostProductConstructionHeuristic(ProbDataSets[0]) # Run Algorithm\n",
    "slns.append(newsln)\n",
    "\n",
    "tend = time.process_time_ns()\n",
    "print(f\"Executed in {1.e-9*(tend - tstart)} CPU*seconds.\")"
   ]
  },
  {
   "cell_type": "markdown",
   "metadata": {},
   "source": [
    "Print Solution"
   ]
  },
  {
   "cell_type": "code",
   "execution_count": 14,
   "metadata": {},
   "outputs": [
    {
     "name": "stdout",
     "output_type": "stream",
     "text": [
      "X = {\n",
      "( 0, {7, 9, 10, 11, 14, 15, 19} ),\n",
      "( 1, {1, 2, 4, 5, 12, 16, 24} ),\n",
      "( 2, {0, 6, 18, 21, 23} ),\n",
      "( 3, {3, 20, 13} ),\n",
      "( 4, {8, 17, 22} ),\b\n",
      "}\n",
      "Z = 487\n",
      "Crem = [1, 3, 14, 43, 18]\n",
      "Z* = 438\n",
      "11.19% larger than z*\n"
     ]
    }
   ],
   "source": [
    "print(\"X = {\",end=\"\")\n",
    "for key in slns[0][0].keys():\n",
    "    print(f\"\\n( {key}, {set([j for j in slns[-1][0][key]])} ),\",end=\"\")\n",
    "print(\"\\b\\n}\")\n",
    "print(f\"Z = {slns[0][1]}\")\n",
    "print(f\"Crem = {slns[0][2]}\")\n",
    "print(f\"Z* = {zstar}\")\n",
    "print(f\"{100 * ( slns[0][1]/zstar-1):.2f}% larger than z*\")"
   ]
  },
  {
   "cell_type": "markdown",
   "metadata": {},
   "source": [
    "## Improvement Heuristic"
   ]
  },
  {
   "cell_type": "markdown",
   "metadata": {},
   "source": [
    "Starting Solution:"
   ]
  },
  {
   "cell_type": "code",
   "execution_count": 15,
   "metadata": {},
   "outputs": [
    {
     "data": {
      "text/plain": [
       "({0: [7, 9, 10, 11, 14, 15, 19],\n",
       "  1: [1, 2, 4, 5, 12, 16, 24],\n",
       "  2: [0, 6, 18, 21, 23],\n",
       "  3: [3, 13, 20],\n",
       "  4: [8, 17, 22]},\n",
       " 487,\n",
       " [1, 3, 14, 43, 18])"
      ]
     },
     "execution_count": 15,
     "metadata": {},
     "output_type": "execute_result"
    }
   ],
   "source": [
    "slns[0]"
   ]
  },
  {
   "cell_type": "code",
   "execution_count": 16,
   "metadata": {},
   "outputs": [
    {
     "name": "stdout",
     "output_type": "stream",
     "text": [
      "Local Search is complete!\n",
      "Executed in 0.046875 CPU*seconds.\n"
     ]
    }
   ],
   "source": [
    "tstart = time.process_time_ns()\n",
    "\n",
    "random.seed(12)\n",
    "slns = OneOneExchangeLocalSearch(ProbDataSets[0], slns, 300) # Run algorithm with 5 min time limit\n",
    "\n",
    "tend = time.process_time_ns()\n",
    "print(f\"Executed in {1.e-9*(tend - tstart)} CPU*seconds.\")"
   ]
  },
  {
   "cell_type": "markdown",
   "metadata": {},
   "source": [
    "Iterations"
   ]
  },
  {
   "cell_type": "code",
   "execution_count": 17,
   "metadata": {
    "scrolled": false
   },
   "outputs": [
    {
     "data": {
      "text/plain": [
       "[487, 477, 469, 467]"
      ]
     },
     "execution_count": 17,
     "metadata": {},
     "output_type": "execute_result"
    }
   ],
   "source": [
    "[sln[1] for sln in slns ]"
   ]
  },
  {
   "cell_type": "markdown",
   "metadata": {},
   "source": [
    "Print Solution"
   ]
  },
  {
   "cell_type": "code",
   "execution_count": 18,
   "metadata": {},
   "outputs": [
    {
     "name": "stdout",
     "output_type": "stream",
     "text": [
      "X = {\n",
      "( 0, {7, 9, 10, 11, 14, 15, 19} ),\n",
      "( 1, {1, 2, 4, 5, 12, 13, 16} ),\n",
      "( 2, {0, 18, 20, 22, 23} ),\n",
      "( 3, {24, 3, 6} ),\n",
      "( 4, {8, 17, 21} ),\b\n",
      "}\n",
      "Z = 467\n",
      "Crem = [1, 3, 6, 11, 10]\n",
      "Z* = 438\n",
      "6.62% larger than z*\n"
     ]
    }
   ],
   "source": [
    "print(\"X = {\",end=\"\")\n",
    "for key in slns[-1][0].keys():\n",
    "    print(f\"\\n( {key}, {set([j for j in slns[-1][0][key]])} ),\",end=\"\")\n",
    "print(\"\\b\\n}\")\n",
    "print(f\"Z = {slns[-1][1]}\")\n",
    "print(f\"Crem = {slns[-1][2]}\")\n",
    "print(f\"Z* = {zstar}\")\n",
    "print(f\"{100 * ( slns[-1][1]/zstar-1):.2f}% larger than z*\")"
   ]
  },
  {
   "cell_type": "markdown",
   "metadata": {},
   "source": [
    "# Problem 2 "
   ]
  },
  {
   "cell_type": "code",
   "execution_count": 19,
   "metadata": {},
   "outputs": [],
   "source": [
    "slns2 = list()\n",
    "zstar2 = ProbDataSets[1][\"zstar\"]"
   ]
  },
  {
   "cell_type": "markdown",
   "metadata": {},
   "source": [
    "## Construction Heuristic"
   ]
  },
  {
   "cell_type": "code",
   "execution_count": 20,
   "metadata": {},
   "outputs": [
    {
     "name": "stdout",
     "output_type": "stream",
     "text": [
      "Executed in 0.03125 CPU*seconds.\n"
     ]
    }
   ],
   "source": [
    "tstart = time.process_time_ns()\n",
    "\n",
    "random.seed(19)\n",
    "newsln = CostProductConstructionHeuristic(ProbDataSets[1]) # Run Algorithm\n",
    "slns2.append(newsln)\n",
    "\n",
    "tend = time.process_time_ns()\n",
    "print(f\"Executed in {1.e-9*(tend - tstart)} CPU*seconds.\")"
   ]
  },
  {
   "cell_type": "markdown",
   "metadata": {},
   "source": [
    "Print Solution"
   ]
  },
  {
   "cell_type": "code",
   "execution_count": 21,
   "metadata": {},
   "outputs": [
    {
     "name": "stdout",
     "output_type": "stream",
     "text": [
      "X = {\n",
      "( 0, {2, 36, 13, 15, 19, 27} ),\n",
      "( 1, {1, 29, 17, 7} ),\n",
      "( 2, {16, 25, 28, 5} ),\n",
      "( 3, {26} ),\n",
      "( 4, {35, 3, 4, 6, 38, 11} ),\n",
      "( 5, {32, 8, 12, 22, 23, 24} ),\n",
      "( 6, {34, 37, 39, 9, 10, 31} ),\n",
      "( 7, {0, 33, 14, 18, 20, 21, 30} )\n",
      "}\n",
      "Z = 766\n",
      "Crem = [10, 30, 42, 59, 12, 12, 25, 3]\n",
      "Z* = 646\n",
      "18.58% larger than z*\n"
     ]
    }
   ],
   "source": [
    "print(\"X = {\",end=\"\")\n",
    "for key in slns2[0][0].keys():\n",
    "    print(f\"\\n( {key}, {set([j for j in slns2[0][0][key]])} ),\",end=\"\")\n",
    "print(\"\\b\\n}\")\n",
    "print(f\"Z = {slns2[0][1]}\")\n",
    "print(f\"Crem = {slns2[0][2]}\")\n",
    "print(f\"Z* = {zstar2}\")\n",
    "print(f\"{100 * ( slns2[0][1]/zstar2-1):.2f}% larger than z*\")"
   ]
  },
  {
   "cell_type": "markdown",
   "metadata": {},
   "source": [
    "## Improvement Heuristic"
   ]
  },
  {
   "cell_type": "markdown",
   "metadata": {},
   "source": [
    "Starting Solution:"
   ]
  },
  {
   "cell_type": "code",
   "execution_count": 22,
   "metadata": {},
   "outputs": [
    {
     "data": {
      "text/plain": [
       "({0: [2, 13, 15, 19, 27, 36],\n",
       "  1: [1, 7, 17, 29],\n",
       "  2: [5, 16, 25, 28],\n",
       "  3: [26],\n",
       "  4: [3, 4, 6, 11, 35, 38],\n",
       "  5: [8, 12, 22, 23, 24, 32],\n",
       "  6: [9, 10, 31, 34, 37, 39],\n",
       "  7: [0, 14, 18, 20, 21, 30, 33]},\n",
       " 766,\n",
       " [10, 30, 42, 59, 12, 12, 25, 3])"
      ]
     },
     "execution_count": 22,
     "metadata": {},
     "output_type": "execute_result"
    }
   ],
   "source": [
    "slns2[0]"
   ]
  },
  {
   "cell_type": "markdown",
   "metadata": {},
   "source": [
    "**1-1 Exchange Neighborhood** is used in the solution. Function used for moving to the best solution in the 1-1 Exchange neighborhood of a predetermined solution is given below: "
   ]
  },
  {
   "cell_type": "code",
   "execution_count": 23,
   "metadata": {},
   "outputs": [
    {
     "name": "stdout",
     "output_type": "stream",
     "text": [
      "Local Search is complete!\n",
      "Executed in 0.1875 CPU*seconds.\n"
     ]
    }
   ],
   "source": [
    "tstart = time.process_time_ns()\n",
    "\n",
    "random.seed(12)\n",
    "slns2 = OneOneExchangeLocalSearch(ProbDataSets[1], slns2, 300) # Run algorithm with 5 min time limit\n",
    "\n",
    "tend = time.process_time_ns()\n",
    "print(f\"Executed in {1.e-9*(tend - tstart)} CPU*seconds.\")"
   ]
  },
  {
   "cell_type": "markdown",
   "metadata": {},
   "source": [
    "Iterations"
   ]
  },
  {
   "cell_type": "code",
   "execution_count": 24,
   "metadata": {},
   "outputs": [
    {
     "data": {
      "text/plain": [
       "[766, 749, 738, 729, 721, 713, 706, 704, 702, 701, 699, 695, 693]"
      ]
     },
     "execution_count": 24,
     "metadata": {},
     "output_type": "execute_result"
    }
   ],
   "source": [
    "[sln[1] for sln in slns2 ]"
   ]
  },
  {
   "cell_type": "markdown",
   "metadata": {},
   "source": [
    "Print Solution"
   ]
  },
  {
   "cell_type": "code",
   "execution_count": 25,
   "metadata": {},
   "outputs": [
    {
     "name": "stdout",
     "output_type": "stream",
     "text": [
      "X = {\n",
      "( 0, {4, 36, 13, 15, 17, 27} ),\n",
      "( 1, {16, 1, 26, 29} ),\n",
      "( 2, {25, 2, 19, 6} ),\n",
      "( 3, {7} ),\n",
      "( 4, {33, 3, 35, 38, 11, 20} ),\n",
      "( 5, {32, 5, 12, 22, 23, 24} ),\n",
      "( 6, {34, 37, 39, 8, 9, 31} ),\n",
      "( 7, {0, 10, 14, 18, 21, 28, 30} ),\b\n",
      "}\n",
      "Z = 693\n",
      "Crem = [1, 15, 2, 53, 2, 3, 11, 1]\n",
      "Z* = 646\n",
      "7.28% larger than z*\n"
     ]
    }
   ],
   "source": [
    "print(\"X = {\",end=\"\")\n",
    "for key in slns2[-1][0].keys():\n",
    "    print(f\"\\n( {key}, {set([j for j in slns2[-1][0][key]])} ),\",end=\"\")\n",
    "print(\"\\b\\n}\")\n",
    "print(f\"Z = {slns2[-1][1]}\")\n",
    "print(f\"Crem = {slns2[-1][2]}\")\n",
    "print(f\"Z* = {zstar2}\")\n",
    "print(f\"{100 * ( slns2[-1][1]/zstar2-1):.2f}% larger than z*\")"
   ]
  },
  {
   "cell_type": "markdown",
   "metadata": {},
   "source": [
    "# Problem 3"
   ]
  },
  {
   "cell_type": "code",
   "execution_count": 26,
   "metadata": {},
   "outputs": [],
   "source": [
    "slns3 = list()\n",
    "zstar3 = ProbDataSets[2][\"zstar\"]"
   ]
  },
  {
   "cell_type": "markdown",
   "metadata": {},
   "source": [
    "## Construction Heuristic"
   ]
  },
  {
   "cell_type": "code",
   "execution_count": 27,
   "metadata": {},
   "outputs": [
    {
     "name": "stdout",
     "output_type": "stream",
     "text": [
      "Executed in 0.046875 CPU*seconds.\n"
     ]
    }
   ],
   "source": [
    "tstart = time.process_time_ns()\n",
    "\n",
    "random.seed(32)\n",
    "newsln = CostProductConstructionHeuristic(ProbDataSets[2]) # Run Algorithm\n",
    "slns3.append(newsln)\n",
    "\n",
    "tend = time.process_time_ns()\n",
    "print(f\"Executed in {1.e-9*(tend - tstart)} CPU*seconds.\")"
   ]
  },
  {
   "cell_type": "markdown",
   "metadata": {},
   "source": [
    "Print Solution"
   ]
  },
  {
   "cell_type": "code",
   "execution_count": 28,
   "metadata": {},
   "outputs": [
    {
     "name": "stdout",
     "output_type": "stream",
     "text": [
      "X = {\n",
      "( 0, {36, 38, 42, 43, 23} ),\n",
      "( 1, {0, 4, 11, 15, 19, 26, 29} ),\n",
      "( 2, {2, 3, 8, 12, 16, 18, 20, 22, 27} ),\n",
      "( 3, {1, 5, 13, 45, 48, 28} ),\n",
      "( 4, {10, 46, 14, 21, 25} ),\n",
      "( 5, {6, 31} ),\n",
      "( 6, {33, 44, 49} ),\n",
      "( 7, {24} ),\n",
      "( 8, {9, 34, 35, 47} ),\n",
      "( 9, {32, 37, 7, 39, 40, 41, 17, 30} ),\b\n",
      "}\n",
      "Z = 730\n",
      "Crem = [25, 3, 3, 11, 40, 48, 32, 52, 22, 0]\n",
      "Z* = 573\n",
      "27.40% larger than z*\n"
     ]
    }
   ],
   "source": [
    "print(\"X = {\",end=\"\")\n",
    "for key in slns3[0][0].keys():\n",
    "    print(f\"\\n( {key}, {set([j for j in slns3[0][0][key]])} ),\",end=\"\")\n",
    "print(\"\\b\\n}\")\n",
    "print(f\"Z = {slns3[0][1]}\")\n",
    "print(f\"Crem = {slns3[0][2]}\")\n",
    "print(f\"Z* = {zstar3}\")\n",
    "print(f\"{100 * ( slns3[0][1]/zstar3-1):.2f}% larger than z*\")"
   ]
  },
  {
   "cell_type": "markdown",
   "metadata": {},
   "source": [
    "## Improvement Heuristic"
   ]
  },
  {
   "cell_type": "markdown",
   "metadata": {},
   "source": [
    "Starting Solution:"
   ]
  },
  {
   "cell_type": "code",
   "execution_count": 29,
   "metadata": {},
   "outputs": [
    {
     "data": {
      "text/plain": [
       "({0: [23, 36, 38, 42, 43],\n",
       "  1: [0, 4, 11, 15, 19, 26, 29],\n",
       "  2: [2, 3, 8, 12, 16, 18, 20, 22, 27],\n",
       "  3: [1, 5, 13, 28, 45, 48],\n",
       "  4: [10, 14, 21, 25, 46],\n",
       "  5: [6, 31],\n",
       "  6: [33, 44, 49],\n",
       "  7: [24],\n",
       "  8: [9, 34, 35, 47],\n",
       "  9: [7, 17, 30, 32, 37, 39, 40, 41]},\n",
       " 730,\n",
       " [25, 3, 3, 11, 40, 48, 32, 52, 22, 0])"
      ]
     },
     "execution_count": 29,
     "metadata": {},
     "output_type": "execute_result"
    }
   ],
   "source": [
    "slns3[0]"
   ]
  },
  {
   "cell_type": "markdown",
   "metadata": {},
   "source": [
    "**1-1 Exchange Neighborhood** is used in the solution. Function used for moving to the best solution in the 1-1 Exchange neighborhood of a predetermined solution is given below: "
   ]
  },
  {
   "cell_type": "code",
   "execution_count": 30,
   "metadata": {},
   "outputs": [
    {
     "name": "stdout",
     "output_type": "stream",
     "text": [
      "Local Search is complete!\n",
      "Executed in 0.328125 CPU*seconds.\n"
     ]
    }
   ],
   "source": [
    "tstart = time.process_time_ns()\n",
    "\n",
    "random.seed(26)\n",
    "slns3 = OneOneExchangeLocalSearch(ProbDataSets[2], slns3, 300) # Run algorithm with 5 min time limit\n",
    "\n",
    "tend = time.process_time_ns()\n",
    "print(f\"Executed in {1.e-9*(tend - tstart)} CPU*seconds.\")"
   ]
  },
  {
   "cell_type": "markdown",
   "metadata": {},
   "source": [
    "Iterations"
   ]
  },
  {
   "cell_type": "code",
   "execution_count": 31,
   "metadata": {
    "scrolled": false
   },
   "outputs": [
    {
     "data": {
      "text/plain": [
       "[730, 713, 699, 692, 686, 680, 675, 668, 662, 659, 655, 653, 652]"
      ]
     },
     "execution_count": 31,
     "metadata": {},
     "output_type": "execute_result"
    }
   ],
   "source": [
    "[sln[1] for sln in slns3 ]"
   ]
  },
  {
   "cell_type": "markdown",
   "metadata": {},
   "source": [
    "Print Solution"
   ]
  },
  {
   "cell_type": "code",
   "execution_count": 32,
   "metadata": {},
   "outputs": [
    {
     "name": "stdout",
     "output_type": "stream",
     "text": [
      "X = {\n",
      "( 0, {36, 47, 23, 24, 28} ),\n",
      "( 1, {0, 4, 43, 15, 19, 25, 26} ),\n",
      "( 2, {2, 35, 8, 12, 16, 18, 20, 22, 27} ),\n",
      "( 3, {1, 38, 45, 13, 49, 21} ),\n",
      "( 4, {33, 3, 10, 14, 48} ),\n",
      "( 5, {6, 31} ),\n",
      "( 6, {42, 44, 46} ),\n",
      "( 7, {5} ),\n",
      "( 8, {9, 34, 11, 29} ),\n",
      "( 9, {32, 37, 7, 39, 40, 41, 17, 30} ),\b\n",
      "}\n",
      "Z = 652\n",
      "Crem = [7, 1, 1, 2, 6, 48, 15, 40, 7, 0]\n",
      "Z* = 573\n",
      "13.79% larger than z*\n"
     ]
    }
   ],
   "source": [
    "print(\"X = {\",end=\"\")\n",
    "for key in slns3[-1][0].keys():\n",
    "    print(f\"\\n( {key}, {set([j for j in slns3[-1][0][key]])} ),\",end=\"\")\n",
    "print(\"\\b\\n}\")\n",
    "print(f\"Z = {slns3[-1][1]}\")\n",
    "print(f\"Crem = {slns3[-1][2]}\")\n",
    "print(f\"Z* = {zstar3}\")\n",
    "print(f\"{100 * ( slns3[-1][1]/zstar3-1):.2f}% larger than z*\")"
   ]
  }
 ],
 "metadata": {
  "kernelspec": {
   "display_name": "Python 3",
   "language": "python",
   "name": "python3"
  },
  "language_info": {
   "codemirror_mode": {
    "name": "ipython",
    "version": 3
   },
   "file_extension": ".py",
   "mimetype": "text/x-python",
   "name": "python",
   "nbconvert_exporter": "python",
   "pygments_lexer": "ipython3",
   "version": "3.8.3"
  }
 },
 "nbformat": 4,
 "nbformat_minor": 4
}
