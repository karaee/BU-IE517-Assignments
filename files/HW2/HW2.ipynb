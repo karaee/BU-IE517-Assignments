{
 "cells": [
  {
   "cell_type": "markdown",
   "metadata": {
    "heading_collapsed": true
   },
   "source": [
    "# Read and Prepare Data"
   ]
  },
  {
   "cell_type": "code",
   "execution_count": 1,
   "metadata": {
    "hidden": true
   },
   "outputs": [],
   "source": [
    "import math\n",
    "import re\n",
    "import os\n",
    "import random\n",
    "import numpy as np\n",
    "import pandas as pd\n",
    "import time\n",
    "from datetime import datetime\n",
    "from matplotlib import pyplot as plt"
   ]
  },
  {
   "cell_type": "markdown",
   "metadata": {
    "hidden": true
   },
   "source": [
    "Creating problem data from files: "
   ]
  },
  {
   "cell_type": "code",
   "execution_count": 2,
   "metadata": {
    "code_folding": [],
    "hidden": true
   },
   "outputs": [],
   "source": [
    "def CreateProblemData(folder, labels, prsize):\n",
    "    problems = dict()\n",
    "    for s in prsize:\n",
    "        prdata = dict()\n",
    "        for l in labels:\n",
    "            f = open(f\"{folder}/{l}{s}.dat\",\"r\")\n",
    "            text = f.read()\n",
    "            f.close()\n",
    "            rows = text.split(\"\\n\")\n",
    "            rows = [r.strip() for r in rows  if r.strip() != \"\" ]\n",
    "            \n",
    "            table = list(map(lambda x: x.split(\"\\t\"), rows  ))\n",
    "            table = np.array(table)[:,1]\n",
    "            table = list(map(lambda x: int(x), table  ))\n",
    "            prdata[l] = table\n",
    "        prdata = pd.DataFrame(prdata)\n",
    "        problems[s] = prdata\n",
    "    return(problems)"
   ]
  },
  {
   "cell_type": "code",
   "execution_count": 3,
   "metadata": {
    "hidden": true,
    "scrolled": true
   },
   "outputs": [],
   "source": [
    "probs = CreateProblemData(\"Data\", [\"x\",\"y\",\"dem\"], [51,76,101])"
   ]
  },
  {
   "cell_type": "markdown",
   "metadata": {},
   "source": [
    "# Used Functions"
   ]
  },
  {
   "cell_type": "markdown",
   "metadata": {},
   "source": [
    "## Basic Functions"
   ]
  },
  {
   "cell_type": "markdown",
   "metadata": {
    "heading_collapsed": true
   },
   "source": [
    "#### **Solution Representation**"
   ]
  },
  {
   "cell_type": "markdown",
   "metadata": {
    "hidden": true
   },
   "source": [
    "Discrete value representation is used to store solutions."
   ]
  },
  {
   "cell_type": "code",
   "execution_count": 4,
   "metadata": {
    "hidden": true
   },
   "outputs": [],
   "source": [
    "x = [1,2,3,4]"
   ]
  },
  {
   "cell_type": "markdown",
   "metadata": {
    "heading_collapsed": true
   },
   "source": [
    "#### **Euclidean Distance and Weightet Distance Matrix**"
   ]
  },
  {
   "cell_type": "code",
   "execution_count": 5,
   "metadata": {
    "hidden": true
   },
   "outputs": [],
   "source": [
    "def dist(x,y = 0):\n",
    "    \n",
    "    return np.sqrt( np.sum((x - y)**2) )"
   ]
  },
  {
   "cell_type": "code",
   "execution_count": 132,
   "metadata": {
    "code_folding": [
     0
    ],
    "hidden": true
   },
   "outputs": [],
   "source": [
    "def CreateWeightedDistMatrix(AllProblems, ProbSize):\n",
    "    ProbData = AllProblems[ProbSize]\n",
    "    \n",
    "    dist = np.sqrt(\\\n",
    "        np.power(\n",
    "        np.diag (ProbData[\"x\"] ) @ np.matrix( ProbSize*ProbSize *[1] ).reshape(ProbSize,ProbSize) -\\\n",
    "        np.matrix( ProbSize*ProbSize *[1] ).reshape(ProbSize,ProbSize) @ np.diag (ProbData[\"x\"] ), 2) +\\\n",
    "        \\\n",
    "        np.power(\\\n",
    "        np.diag (ProbData[\"y\"] ) @ np.matrix( ProbSize*ProbSize *[1] ).reshape(ProbSize,ProbSize) -\\\n",
    "        np.matrix( ProbSize*ProbSize *[1] ).reshape(ProbSize,ProbSize) @ np.diag (ProbData[\"y\"] ), 2)\\\n",
    "                 )\n",
    "    res = np.diag(ProbData[\"dem\"]) @ dist\n",
    "    res = res + np.diag(ProbSize * [float('nan')])\n",
    "    return np.around(res,2)"
   ]
  },
  {
   "cell_type": "code",
   "execution_count": 133,
   "metadata": {
    "hidden": true
   },
   "outputs": [],
   "source": [
    "W = CreateWeightedDistMatrix(probs,51)"
   ]
  },
  {
   "cell_type": "markdown",
   "metadata": {},
   "source": [
    "#### Assignment Function "
   ]
  },
  {
   "cell_type": "code",
   "execution_count": 469,
   "metadata": {},
   "outputs": [
    {
     "data": {
      "text/plain": [
       "array([284.97, 477.21, 601.04, 357.4 , 433.42,    nan, 280.37, 306.47,\n",
       "       578.25, 674.88, 371.29, 306.47, 462.45, 175.03, 585.45, 536.78,\n",
       "       420.56, 247.52, 593.78, 639.93, 702.16, 395.41, 190.07, 236.78,\n",
       "       282.94, 371.29, 153.94, 505.45, 629.23, 715.01, 462.45, 289.5 ,\n",
       "       759.12, 720.45, 748.19, 806.02, 464.32, 456.16, 844.54, 748.19,\n",
       "       543.2 , 629.  , 396.87, 565.11, 699.48, 231.22, 263.91, 152.05,\n",
       "       561.26, 618.81, 193.83])"
      ]
     },
     "execution_count": 469,
     "metadata": {},
     "output_type": "execute_result"
    }
   ],
   "source": [
    "W[5,:]"
   ]
  },
  {
   "cell_type": "code",
   "execution_count": 466,
   "metadata": {},
   "outputs": [
    {
     "data": {
      "text/plain": [
       "5"
      ]
     },
     "execution_count": 466,
     "metadata": {},
     "output_type": "execute_result"
    }
   ],
   "source": [
    "np.argmin(W[5,:])"
   ]
  },
  {
   "cell_type": "code",
   "execution_count": 473,
   "metadata": {
    "code_folding": []
   },
   "outputs": [],
   "source": [
    "def AssignCustomers(AllProblems, ProbSize, WeightedDists, x):\n",
    "    ProbData = AllProblems[ProbSize]\n",
    "    custs = set(range(ProbSize)).difference(set(x))\n",
    "    assignments = { key : list() for key in x }\n",
    "    z = 0\n",
    "    for c in custs:\n",
    "        i = np.argmin( WeightedDists[c,x])\n",
    "        assignments[x[i]].append(c)\n",
    "        z = z + WeightedDists[c,x[i]]\n",
    "    return (z, assignments)"
   ]
  },
  {
   "cell_type": "markdown",
   "metadata": {},
   "source": [
    "## Move Operators"
   ]
  },
  {
   "cell_type": "code",
   "execution_count": 668,
   "metadata": {
    "code_folding": []
   },
   "outputs": [],
   "source": [
    "def OneOneExchangeGiven(AllProblems, ProbSize, WeightedDists, Solution, newCust, newFac):\n",
    "    \n",
    "    x = Solution[0].copy()\n",
    "    newX = set(x).difference(set([newCust])).union(set([newFac]))\n",
    "    newX = list(newX)\n",
    "    \n",
    "    assignments = AssignCustomers(AllProblems, ProbSize, WeightedDists, newX)\n",
    "    \n",
    "    res = [newX] + (list(assignments))\n",
    "    return res    "
   ]
  },
  {
   "cell_type": "code",
   "execution_count": 669,
   "metadata": {
    "code_folding": [
     0
    ]
   },
   "outputs": [],
   "source": [
    "def OneOneExchangeRand(AllProblems, ProbSize, WeightedDists, Solution):\n",
    "    \n",
    "    x = sol[0].copy()\n",
    "    custs = set(range(ProbSize)).difference(x)\n",
    "    \n",
    "    newFac = random.sample(custs,1)\n",
    "    newCust = random.sample(x,1)\n",
    "    \n",
    "    return OneOneExchangeGiven(AllProblems, ProbSize, WeightedDists, Solution, newCust, newFac)"
   ]
  },
  {
   "cell_type": "code",
   "execution_count": 695,
   "metadata": {
    "code_folding": [],
    "scrolled": false
   },
   "outputs": [],
   "source": [
    "def OneOneExchangeBest(AllProblems, ProbSize, WeightedDists, Solution):\n",
    "    \n",
    "    x = set(Solution[0])\n",
    "    custs = set(range(ProbSize)).difference(x)\n",
    "    \n",
    "    BestZ = Solution[1]\n",
    "    BestSolution = list()\n",
    "    \n",
    "    for c in custs:\n",
    "        for f in x:\n",
    "            newFac = c\n",
    "            newCust = f\n",
    "            newSolution = OneOneExchangeGiven(AllProblems, ProbSize, WeightedDists, Solution, newCust, newFac)\n",
    "            if newSolution[1] < BestZ:\n",
    "                BestSolution = newSolution\n",
    "                BestZ = newSolution[1]\n",
    "                \n",
    "    if BestZ == Solution[1]:\n",
    "        print(\"Local Search is complete!\")\n",
    "        return Solution\n",
    "            \n",
    "    return BestSolution"
   ]
  },
  {
   "cell_type": "code",
   "execution_count": 671,
   "metadata": {
    "code_folding": []
   },
   "outputs": [],
   "source": [
    "def ManyManyExchangeGiven(AllProblems, ProbSize, WeightedDists, Solution, newCusts, newFacs):\n",
    "\n",
    "    x = Solution[0].copy()\n",
    "    \n",
    "    newX = set(x).difference(set(newCusts)).union(set(newFacs))\n",
    "    newX = list(newX)\n",
    "    \n",
    "    assignments = AssignCustomers(AllProblems, ProbSize, WeightedDists, newX)\n",
    "    \n",
    "    res = [newX] + (list(assignments))\n",
    "    return res    "
   ]
  },
  {
   "cell_type": "code",
   "execution_count": 672,
   "metadata": {
    "code_folding": []
   },
   "outputs": [],
   "source": [
    "def ManyManyExchangeRand(AllProblems, ProbSize, WeightedDists, Solution, n):\n",
    "    \n",
    "    x = Solution[0].copy()\n",
    "    custs = set(range(ProbSize)).difference(x)\n",
    "    \n",
    "    newFacs = random.sample(set(custs),n)\n",
    "    newCusts = random.sample(set(x),n)\n",
    "    \n",
    "    return ManyManyExchangeGiven(AllProblems, ProbSize, WeightedDists, Solution, newCusts, newFacs)"
   ]
  },
  {
   "cell_type": "markdown",
   "metadata": {
    "heading_collapsed": true
   },
   "source": [
    "## Construction Heuristic "
   ]
  },
  {
   "cell_type": "code",
   "execution_count": 7,
   "metadata": {
    "code_folding": [
     0
    ],
    "hidden": true
   },
   "outputs": [],
   "source": [
    "def SortMatchings(CostMatrix):\n",
    "    # Function to sort assignments with respect to a given cost matrix\n",
    "    SortedValues = list(np.squeeze(np.array(np.sort(CostMatrix).reshape(1,-1))))\n",
    "    SortedValues = list(np.unique(SortedValues))\n",
    "    Matchings = list(map(lambda x:\n",
    "                 np.random.permutation( # If there are even assignments, sort them randomly\n",
    "                     np.squeeze(\n",
    "                         np.stack(\n",
    "                             np.where(CostMatrix==x), 1)\n",
    "                     ).\n",
    "                     reshape(-1,2)\n",
    "                 )\n",
    "                 ,\n",
    "                 SortedValues ))\n",
    "    \n",
    "    Matchings = np.stack(np.concatenate(Matchings))\n",
    "    return Matchings"
   ]
  },
  {
   "cell_type": "code",
   "execution_count": 78,
   "metadata": {
    "code_folding": [
     0
    ],
    "hidden": true
   },
   "outputs": [],
   "source": [
    "def MinWeightedDistConstructionHeuristic(AllProblems, ProbSize, p, WeightedDists):\n",
    "    sortedDistances = SortMatchings(WeightedDists)\n",
    "    x = set()\n",
    "    i = 0\n",
    "    while len(x) < p:\n",
    "        x.add(sortedDistances[i][1])\n",
    "        i += 1\n",
    "    x = list(x)\n",
    "    assignments = AssignCustomers(AllProblems, ProbSize, WeightedDists, x)\n",
    "    res = [x] + (list(assignments))\n",
    "    return res"
   ]
  },
  {
   "cell_type": "markdown",
   "metadata": {},
   "source": [
    "## Local Search "
   ]
  },
  {
   "cell_type": "code",
   "execution_count": 687,
   "metadata": {},
   "outputs": [],
   "source": [
    "def OneOneExchangeLocalSearch(AllProblems, ProbSize, WeightedDists, Solution):\n",
    "    Sol = Solution.copy()\n",
    "    newSol =  Solution.copy()\n",
    "    while True:\n",
    "        newSol = OneOneExchangeBest(AllProblems, ProbSize, WeightedDists, Sol).copy() # Call move operator\n",
    "        if Sol[1] <= newSol[1]: # If no better solution can be found\n",
    "            return Sol\n",
    "        Sol = newSol.copy()\n",
    "\n",
    "    return Sol"
   ]
  },
  {
   "cell_type": "markdown",
   "metadata": {
    "heading_collapsed": true
   },
   "source": [
    "## Simulated Annealing "
   ]
  },
  {
   "cell_type": "code",
   "execution_count": 594,
   "metadata": {
    "code_folding": [
     0
    ],
    "hidden": true
   },
   "outputs": [],
   "source": [
    "def SetInitialTemp(AllProblems, ProbSize, p, WeightedDists,P0, n = 20):\n",
    "    delta = 0\n",
    "    for i in range(n):\n",
    "        xfirst = list(random.sample(range(ProbSize),p))\n",
    "        solfirst = [xfirst] + list(AssignCustomers(AllProblems, ProbSize, WeightedDists,xfirst ))\n",
    "\n",
    "        sollast = OneOneExchangeRand(AllProblems, ProbSize, WeightedDists,solfirst)\n",
    "        delta += abs(solfirst[1] - sollast[1])\n",
    "    \n",
    "    return - (delta/n) / np.log(P0) "
   ]
  },
  {
   "cell_type": "code",
   "execution_count": 389,
   "metadata": {
    "code_folding": [
     0
    ],
    "hidden": true
   },
   "outputs": [],
   "source": [
    "def SA(AllProblems, ProbSize, p, WeightedDists, Solution, Parameters):\n",
    "    P0, ip, r, sf, fp  = Parameters\n",
    "    T = SetInitialTemp(AllProblems,ProbSize,p,WeightedDists,P0,25)\n",
    "    Sol = Solution\n",
    "    SolStar = Solution\n",
    "    terct = 0\n",
    "    L = sf * p * (ProbSize - p)\n",
    "    it = 0\n",
    "    while(terct < 5):\n",
    "        print(f\"T: {T}\")\n",
    "        j = 0\n",
    "        count = 0\n",
    "        while count < L:\n",
    "            it += 1\n",
    "            count += 1\n",
    "            SolPrime = OneOneExchangeRand(AllProblems, ProbSize, WeightedDists,Sol)\n",
    "            delta = SolPrime[1] - Sol[1]\n",
    "            if delta <= 0:\n",
    "                Sol = SolPrime\n",
    "                SolStar = SolPrime\n",
    "                j += 1\n",
    "            else:\n",
    "                R = random.random()\n",
    "                if np.exp(-delta/T) >= R:\n",
    "                    Sol = SolPrime\n",
    "                    j += 1\n",
    "            \n",
    "        # Update Temperature\n",
    "        if j/L <= fp:\n",
    "            terct += 1\n",
    "            T = T*r\n",
    "        else:\n",
    "            terct = 0\n",
    "            if j/L <= ip:\n",
    "                T = T*r\n",
    "            else:\n",
    "                T = T*0.5\n",
    "    return [SolStar, it]"
   ]
  },
  {
   "cell_type": "code",
   "execution_count": 390,
   "metadata": {
    "hidden": true
   },
   "outputs": [],
   "source": [
    "SAparams = [0.9, 0.7, 0.85, 1, 0.1] # P0, ip, r, sf, fp  "
   ]
  },
  {
   "cell_type": "code",
   "execution_count": null,
   "metadata": {
    "hidden": true
   },
   "outputs": [],
   "source": [
    "SA(probs, 51, 4, W, sol, SAparams)"
   ]
  },
  {
   "cell_type": "markdown",
   "metadata": {},
   "source": [
    "## Variable Neighborhood Search "
   ]
  },
  {
   "cell_type": "code",
   "execution_count": 688,
   "metadata": {
    "code_folding": []
   },
   "outputs": [],
   "source": [
    "def VNS(AllProblems, ProbSize, p, WeightedDists, Solution, kmax):\n",
    "    Sol = Solution\n",
    "    SolStar = Solution\n",
    "    delta = 1\n",
    "    k = 0\n",
    "    it = 0\n",
    "    counter = 0\n",
    "    while True:\n",
    "        k = 0\n",
    "        while k < kmax:\n",
    "            SolPrime = ManyManyExchangeRand(AllProblems, ProbSize, WeightedDists, Sol, k) #Shaking\n",
    "            SolPrPr = OneOneExchangeLocalSearch(AllProblems, ProbSize, WeightedDists, SolPrime) #LS\n",
    "            \n",
    "            if SolPrPr[1] < Sol[1]:\n",
    "                Sol = SolPrPr\n",
    "                k = 1\n",
    "            else: k +=1\n",
    "            it += 1\n",
    "        delta = SolStar[1] - Sol[1]\n",
    "        SolStar = Sol\n",
    "        if delta <= 0: counter += 1\n",
    "        if counter >= 3: break\n",
    "    return SolStar\n",
    "    "
   ]
  },
  {
   "cell_type": "code",
   "execution_count": 698,
   "metadata": {
    "scrolled": true
   },
   "outputs": [
    {
     "name": "stdout",
     "output_type": "stream",
     "text": [
      "Local Search is complete!\n",
      "Local Search is complete!\n",
      "Local Search is complete!\n",
      "Local Search is complete!\n",
      "Local Search is complete!\n",
      "Local Search is complete!\n",
      "Local Search is complete!\n",
      "Local Search is complete!\n",
      "Local Search is complete!\n"
     ]
    }
   ],
   "source": [
    "solVNS = VNS(probs, 51, 4, W, solVNS, 3 )"
   ]
  },
  {
   "cell_type": "code",
   "execution_count": 699,
   "metadata": {
    "scrolled": false
   },
   "outputs": [
    {
     "data": {
      "text/plain": [
       "[[48, 3, 28, 7],\n",
       " 7555.709999999999,\n",
       " {48: [4, 8, 9, 10, 14, 29, 32, 33, 37, 38, 44],\n",
       "  3: [11, 12, 13, 16, 17, 18, 24, 36, 39, 40, 41, 43, 45, 46, 50],\n",
       "  28: [1, 2, 15, 19, 20, 34, 35, 49],\n",
       "  7: [0, 5, 6, 21, 22, 23, 25, 26, 27, 30, 31, 42, 47]}]"
      ]
     },
     "execution_count": 699,
     "metadata": {},
     "output_type": "execute_result"
    }
   ],
   "source": [
    "solVNS"
   ]
  },
  {
   "cell_type": "code",
   "execution_count": 697,
   "metadata": {},
   "outputs": [
    {
     "name": "stdout",
     "output_type": "stream",
     "text": [
      "Local Search is complete!\n"
     ]
    },
    {
     "data": {
      "text/plain": [
       "[[48, 3, 28, 7],\n",
       " 7555.709999999999,\n",
       " {48: [4, 8, 9, 10, 14, 29, 32, 33, 37, 38, 44],\n",
       "  3: [11, 12, 13, 16, 17, 18, 24, 36, 39, 40, 41, 43, 45, 46, 50],\n",
       "  28: [1, 2, 15, 19, 20, 34, 35, 49],\n",
       "  7: [0, 5, 6, 21, 22, 23, 25, 26, 27, 30, 31, 42, 47]}]"
      ]
     },
     "execution_count": 697,
     "metadata": {},
     "output_type": "execute_result"
    }
   ],
   "source": [
    "OneOneExchangeBest(probs, 51,  W, solVNS )"
   ]
  },
  {
   "cell_type": "code",
   "execution_count": 676,
   "metadata": {},
   "outputs": [],
   "source": [
    "sol = [[48, 3, 28, 7]] + list(AssignCustomers(probs, 51,W,[48, 3, 28, 7]))"
   ]
  },
  {
   "cell_type": "code",
   "execution_count": 677,
   "metadata": {
    "scrolled": true
   },
   "outputs": [
    {
     "name": "stdout",
     "output_type": "stream",
     "text": [
      "7555.709999999999\n",
      "7559.789999999999\n"
     ]
    },
    {
     "data": {
      "text/plain": [
       "[[48, 3, 28, 7],\n",
       " 7555.709999999999,\n",
       " {48: [4, 8, 9, 10, 14, 29, 32, 33, 37, 38, 44],\n",
       "  3: [11, 12, 13, 16, 17, 18, 24, 36, 39, 40, 41, 43, 45, 46, 50],\n",
       "  28: [1, 2, 15, 19, 20, 34, 35, 49],\n",
       "  7: [0, 5, 6, 21, 22, 23, 25, 26, 27, 30, 31, 42, 47]}]"
      ]
     },
     "execution_count": 677,
     "metadata": {},
     "output_type": "execute_result"
    }
   ],
   "source": [
    "OneOneExchangeLocalSearch(probs, 51,  W, sol )"
   ]
  },
  {
   "cell_type": "code",
   "execution_count": 637,
   "metadata": {},
   "outputs": [
    {
     "data": {
      "text/plain": [
       "[[48, 3, 28, 7],\n",
       " 7555.709999999999,\n",
       " {48: [4, 8, 9, 10, 14, 29, 32, 33, 37, 38, 44],\n",
       "  3: [11, 12, 13, 16, 17, 18, 24, 36, 39, 40, 41, 43, 45, 46, 50],\n",
       "  28: [1, 2, 15, 19, 20, 34, 35, 49],\n",
       "  7: [0, 5, 6, 21, 22, 23, 25, 26, 27, 30, 31, 42, 47]}]"
      ]
     },
     "execution_count": 637,
     "metadata": {},
     "output_type": "execute_result"
    }
   ],
   "source": [
    "OneOneExchangeBest(probs, 51, W, sol)"
   ]
  },
  {
   "cell_type": "code",
   "execution_count": 479,
   "metadata": {},
   "outputs": [
    {
     "data": {
      "text/plain": [
       "[1, 3, 2, 7]"
      ]
     },
     "execution_count": 479,
     "metadata": {},
     "output_type": "execute_result"
    }
   ],
   "source": [
    "solVNS"
   ]
  },
  {
   "cell_type": "markdown",
   "metadata": {},
   "source": [
    "# 51 Problem "
   ]
  },
  {
   "cell_type": "markdown",
   "metadata": {},
   "source": [
    "## p = 4 "
   ]
  },
  {
   "cell_type": "markdown",
   "metadata": {},
   "source": [
    "### Initial Points"
   ]
  },
  {
   "cell_type": "markdown",
   "metadata": {},
   "source": [
    "### Simulated Annealing"
   ]
  },
  {
   "cell_type": "markdown",
   "metadata": {},
   "source": [
    "### Variable Neighborhood Search "
   ]
  },
  {
   "cell_type": "markdown",
   "metadata": {
    "heading_collapsed": true
   },
   "source": [
    "## p = 6"
   ]
  },
  {
   "cell_type": "markdown",
   "metadata": {
    "hidden": true
   },
   "source": [
    "### Initial Points"
   ]
  },
  {
   "cell_type": "markdown",
   "metadata": {
    "hidden": true
   },
   "source": [
    "### Simulated Annealing"
   ]
  },
  {
   "cell_type": "markdown",
   "metadata": {
    "hidden": true
   },
   "source": [
    "### Variable Neighborhood Search "
   ]
  },
  {
   "cell_type": "markdown",
   "metadata": {
    "heading_collapsed": true
   },
   "source": [
    "## p = 8 "
   ]
  },
  {
   "cell_type": "markdown",
   "metadata": {
    "hidden": true
   },
   "source": [
    "### Initial Points"
   ]
  },
  {
   "cell_type": "markdown",
   "metadata": {
    "hidden": true
   },
   "source": [
    "### Simulated Annealing"
   ]
  },
  {
   "cell_type": "markdown",
   "metadata": {
    "hidden": true
   },
   "source": [
    "### Variable Neighborhood Search "
   ]
  },
  {
   "cell_type": "markdown",
   "metadata": {},
   "source": [
    "## Title "
   ]
  },
  {
   "cell_type": "code",
   "execution_count": null,
   "metadata": {},
   "outputs": [],
   "source": [
    "x0 = list()"
   ]
  },
  {
   "cell_type": "code",
   "execution_count": null,
   "metadata": {},
   "outputs": [],
   "source": []
  },
  {
   "cell_type": "code",
   "execution_count": null,
   "metadata": {},
   "outputs": [],
   "source": []
  },
  {
   "cell_type": "code",
   "execution_count": null,
   "metadata": {},
   "outputs": [],
   "source": []
  },
  {
   "cell_type": "code",
   "execution_count": null,
   "metadata": {},
   "outputs": [],
   "source": []
  },
  {
   "cell_type": "code",
   "execution_count": null,
   "metadata": {},
   "outputs": [],
   "source": []
  },
  {
   "cell_type": "code",
   "execution_count": null,
   "metadata": {},
   "outputs": [],
   "source": []
  },
  {
   "cell_type": "code",
   "execution_count": null,
   "metadata": {
    "code_folding": [
     0
    ]
   },
   "outputs": [],
   "source": [
    "def CostProductConstructionHeuristic(Dataset):\n",
    "    \n",
    "    # Get Variables\n",
    "    zstar = Dataset[\"zstar\"]\n",
    "    m = Dataset[\"m\"]\n",
    "    n = Dataset[\"n\"]\n",
    "    OpCost = Dataset[\"OpCost\"]\n",
    "    CapCost = Dataset[\"CapCost\"]\n",
    "    Cap = Dataset[\"Cap\"]\n",
    "    \n",
    "    # Calculate products of costs so called Negative Values\n",
    "    NegValue = np.multiply(OpCost, CapCost)\n",
    "    \n",
    "    # Sort Agent-Job Matchings with respect to Negative Values \n",
    "    SortedMatchings = SortMatchings(NegValue)\n",
    "    \n",
    "    Crem = Cap.copy() # Remaining Capacity\n",
    "    xlist = list() # X\n",
    "    z = 0 # Z\n",
    "    unassigned = list(range(n)) # Unassigned Jobs\n",
    "    \n",
    "    for r in SortedMatchings:\n",
    "        if  (Crem[r[0]] - CapCost[r[0],r[1]] >= 0\n",
    "             and r[1] in unassigned):\n",
    "            # If remaining capacity permits:\n",
    "            Crem[r[0]] = Crem[r[0]] - CapCost[r[0],r[1]] # Reduce Capacity\n",
    "            unassigned.remove((r[1])) # Remove job from unassigned list\n",
    "            xlist.append(r) # Add mathcing to the solution\n",
    "            z = z + OpCost[r[0],r[1]] #Sum up operational costs\n",
    "    \n",
    "    # Converting solution to a dictionary for convenience\n",
    "    xlist = np.stack(xlist)\n",
    "    x = dict()\n",
    "    for i in range(m):\n",
    "        x[i] = xlist[xlist[:,0] == i][:,1]\n",
    "    for key in x.keys():\n",
    "        x[key] = list(np.sort(x[key]))\n",
    "        \n",
    "    # Print message if any unassigned job exists\n",
    "    if unassigned != []:\n",
    "        print(f\"These jobs are unassigned: {unassigned}\")\n",
    "    \n",
    "    # Function returns X, Z and Crem\n",
    "    # which can be used again in iterations\n",
    "    return (x,z,list(Crem))"
   ]
  },
  {
   "cell_type": "code",
   "execution_count": null,
   "metadata": {
    "code_folding": [],
    "scrolled": true
   },
   "outputs": [],
   "source": [
    "ProblemData = list((rows[prbegin[0]:prbegin[1]-1], rows[prbegin[1]:prbegin[2]-1], rows[prbegin[2]:]))\n",
    "for prob in range(3):\n",
    "    ProblemData[prob] = [r.strip() for r in ProblemData[prob]  if r.strip() != \"\" ]"
   ]
  },
  {
   "cell_type": "markdown",
   "metadata": {},
   "source": [
    "## Improvement Heuristic"
   ]
  },
  {
   "cell_type": "markdown",
   "metadata": {},
   "source": [
    "**1-1 Exchange Neighborhood** is used in the solution. Function used to move to the best solution in the 1-1 Exchange neighborhood of a predetermined solution is given below. If there are more than one local optima, one of them is selected randomly:"
   ]
  },
  {
   "cell_type": "code",
   "execution_count": null,
   "metadata": {
    "code_folding": [],
    "scrolled": true
   },
   "outputs": [],
   "source": [
    "def OneOneExchangeLocalSearch(ProbData, Solutions, timelimit):\n",
    "    Sols = Solutions.copy()\n",
    "    t1 = datetime.now()\n",
    "    while(1):\n",
    "        realtime = (datetime.now() - t1).total_seconds() # Calculate duration\n",
    "        newsln = OneOneExchangeMove(ProbData,Sols[-1]) # Call move operator\n",
    "        if ((newsln == None) # If no better solution can be found\n",
    "            or (realtime > timelimit)): # If the real time duration exceeds given limit\n",
    "            break\n",
    "        \n",
    "        Sols.append(newsln)\n",
    "        \n",
    "        if Sols.count(None) > 0: Sols.remove(None)\n",
    "    return Sols"
   ]
  },
  {
   "cell_type": "markdown",
   "metadata": {},
   "source": [
    "# Problem 1 "
   ]
  },
  {
   "cell_type": "code",
   "execution_count": null,
   "metadata": {},
   "outputs": [],
   "source": [
    "slns = list() # All solutions will be stored in this list\n",
    "zstar = ProbDataSets[0][\"zstar\"]"
   ]
  },
  {
   "cell_type": "markdown",
   "metadata": {},
   "source": [
    "## Construction Heuristic"
   ]
  },
  {
   "cell_type": "code",
   "execution_count": null,
   "metadata": {},
   "outputs": [],
   "source": [
    "tstart = time.process_time_ns()\n",
    "\n",
    "random.seed(11)\n",
    "newsln = CostProductConstructionHeuristic(ProbDataSets[0]) # Run Algorithm\n",
    "slns.append(newsln)\n",
    "\n",
    "tend = time.process_time_ns()\n",
    "print(f\"Executed in {1.e-9*(tend - tstart)} CPU*seconds.\")"
   ]
  },
  {
   "cell_type": "markdown",
   "metadata": {},
   "source": [
    "Print Solution"
   ]
  },
  {
   "cell_type": "code",
   "execution_count": null,
   "metadata": {},
   "outputs": [],
   "source": [
    "print(\"X = {\",end=\"\")\n",
    "for key in slns[0][0].keys():\n",
    "    print(f\"\\n( {key}, {set([j for j in slns[-1][0][key]])} ),\",end=\"\")\n",
    "print(\"\\b\\n}\")\n",
    "print(f\"Z = {slns[0][1]}\")\n",
    "print(f\"Crem = {slns[0][2]}\")\n",
    "print(f\"Z* = {zstar}\")\n",
    "print(f\"{100 * ( slns[0][1]/zstar-1):.2f}% larger than z*\")"
   ]
  },
  {
   "cell_type": "markdown",
   "metadata": {},
   "source": [
    "## Improvement Heuristic"
   ]
  },
  {
   "cell_type": "markdown",
   "metadata": {},
   "source": [
    "Starting Solution:"
   ]
  },
  {
   "cell_type": "code",
   "execution_count": null,
   "metadata": {},
   "outputs": [],
   "source": [
    "slns[0]"
   ]
  },
  {
   "cell_type": "code",
   "execution_count": null,
   "metadata": {},
   "outputs": [],
   "source": [
    "tstart = time.process_time_ns()\n",
    "\n",
    "random.seed(12)\n",
    "slns = OneOneExchangeLocalSearch(ProbDataSets[0], slns, 300) # Run algorithm with 5 min time limit\n",
    "\n",
    "tend = time.process_time_ns()\n",
    "print(f\"Executed in {1.e-9*(tend - tstart)} CPU*seconds.\")"
   ]
  },
  {
   "cell_type": "markdown",
   "metadata": {},
   "source": [
    "Iterations"
   ]
  },
  {
   "cell_type": "code",
   "execution_count": null,
   "metadata": {
    "scrolled": false
   },
   "outputs": [],
   "source": [
    "[sln[1] for sln in slns ]"
   ]
  },
  {
   "cell_type": "markdown",
   "metadata": {},
   "source": [
    "Print Solution"
   ]
  },
  {
   "cell_type": "code",
   "execution_count": null,
   "metadata": {},
   "outputs": [],
   "source": [
    "print(\"X = {\",end=\"\")\n",
    "for key in slns[-1][0].keys():\n",
    "    print(f\"\\n( {key}, {set([j for j in slns[-1][0][key]])} ),\",end=\"\")\n",
    "print(\"\\b\\n}\")\n",
    "print(f\"Z = {slns[-1][1]}\")\n",
    "print(f\"Crem = {slns[-1][2]}\")\n",
    "print(f\"Z* = {zstar}\")\n",
    "print(f\"{100 * ( slns[-1][1]/zstar-1):.2f}% larger than z*\")"
   ]
  },
  {
   "cell_type": "markdown",
   "metadata": {},
   "source": [
    "# Problem 2 "
   ]
  },
  {
   "cell_type": "code",
   "execution_count": null,
   "metadata": {},
   "outputs": [],
   "source": [
    "slns2 = list()\n",
    "zstar2 = ProbDataSets[1][\"zstar\"]"
   ]
  },
  {
   "cell_type": "markdown",
   "metadata": {},
   "source": [
    "## Construction Heuristic"
   ]
  },
  {
   "cell_type": "code",
   "execution_count": null,
   "metadata": {},
   "outputs": [],
   "source": [
    "tstart = time.process_time_ns()\n",
    "\n",
    "random.seed(19)\n",
    "newsln = CostProductConstructionHeuristic(ProbDataSets[1]) # Run Algorithm\n",
    "slns2.append(newsln)\n",
    "\n",
    "tend = time.process_time_ns()\n",
    "print(f\"Executed in {1.e-9*(tend - tstart)} CPU*seconds.\")"
   ]
  },
  {
   "cell_type": "markdown",
   "metadata": {},
   "source": [
    "Print Solution"
   ]
  },
  {
   "cell_type": "code",
   "execution_count": null,
   "metadata": {},
   "outputs": [],
   "source": [
    "print(\"X = {\",end=\"\")\n",
    "for key in slns2[0][0].keys():\n",
    "    print(f\"\\n( {key}, {set([j for j in slns2[0][0][key]])} ),\",end=\"\")\n",
    "print(\"\\b\\n}\")\n",
    "print(f\"Z = {slns2[0][1]}\")\n",
    "print(f\"Crem = {slns2[0][2]}\")\n",
    "print(f\"Z* = {zstar2}\")\n",
    "print(f\"{100 * ( slns2[0][1]/zstar2-1):.2f}% larger than z*\")"
   ]
  },
  {
   "cell_type": "markdown",
   "metadata": {},
   "source": [
    "## Improvement Heuristic"
   ]
  },
  {
   "cell_type": "markdown",
   "metadata": {},
   "source": [
    "Starting Solution:"
   ]
  },
  {
   "cell_type": "code",
   "execution_count": null,
   "metadata": {},
   "outputs": [],
   "source": [
    "slns2[0]"
   ]
  },
  {
   "cell_type": "markdown",
   "metadata": {},
   "source": [
    "**1-1 Exchange Neighborhood** is used in the solution. Function used for moving to the best solution in the 1-1 Exchange neighborhood of a predetermined solution is given below: "
   ]
  },
  {
   "cell_type": "code",
   "execution_count": null,
   "metadata": {},
   "outputs": [],
   "source": [
    "tstart = time.process_time_ns()\n",
    "\n",
    "random.seed(12)\n",
    "slns2 = OneOneExchangeLocalSearch(ProbDataSets[1], slns2, 300) # Run algorithm with 5 min time limit\n",
    "\n",
    "tend = time.process_time_ns()\n",
    "print(f\"Executed in {1.e-9*(tend - tstart)} CPU*seconds.\")"
   ]
  },
  {
   "cell_type": "markdown",
   "metadata": {},
   "source": [
    "Iterations"
   ]
  },
  {
   "cell_type": "code",
   "execution_count": null,
   "metadata": {},
   "outputs": [],
   "source": [
    "[sln[1] for sln in slns2 ]"
   ]
  },
  {
   "cell_type": "markdown",
   "metadata": {},
   "source": [
    "Print Solution"
   ]
  },
  {
   "cell_type": "code",
   "execution_count": null,
   "metadata": {},
   "outputs": [],
   "source": [
    "print(\"X = {\",end=\"\")\n",
    "for key in slns2[-1][0].keys():\n",
    "    print(f\"\\n( {key}, {set([j for j in slns2[-1][0][key]])} ),\",end=\"\")\n",
    "print(\"\\b\\n}\")\n",
    "print(f\"Z = {slns2[-1][1]}\")\n",
    "print(f\"Crem = {slns2[-1][2]}\")\n",
    "print(f\"Z* = {zstar2}\")\n",
    "print(f\"{100 * ( slns2[-1][1]/zstar2-1):.2f}% larger than z*\")"
   ]
  },
  {
   "cell_type": "markdown",
   "metadata": {},
   "source": [
    "# Problem 3"
   ]
  },
  {
   "cell_type": "code",
   "execution_count": null,
   "metadata": {},
   "outputs": [],
   "source": [
    "slns3 = list()\n",
    "zstar3 = ProbDataSets[2][\"zstar\"]"
   ]
  },
  {
   "cell_type": "markdown",
   "metadata": {},
   "source": [
    "## Construction Heuristic"
   ]
  },
  {
   "cell_type": "code",
   "execution_count": null,
   "metadata": {},
   "outputs": [],
   "source": [
    "tstart = time.process_time_ns()\n",
    "\n",
    "random.seed(32)\n",
    "newsln = CostProductConstructionHeuristic(ProbDataSets[2]) # Run Algorithm\n",
    "slns3.append(newsln)\n",
    "\n",
    "tend = time.process_time_ns()\n",
    "print(f\"Executed in {1.e-9*(tend - tstart)} CPU*seconds.\")"
   ]
  },
  {
   "cell_type": "markdown",
   "metadata": {},
   "source": [
    "Print Solution"
   ]
  },
  {
   "cell_type": "code",
   "execution_count": null,
   "metadata": {},
   "outputs": [],
   "source": [
    "print(\"X = {\",end=\"\")\n",
    "for key in slns3[0][0].keys():\n",
    "    print(f\"\\n( {key}, {set([j for j in slns3[0][0][key]])} ),\",end=\"\")\n",
    "print(\"\\b\\n}\")\n",
    "print(f\"Z = {slns3[0][1]}\")\n",
    "print(f\"Crem = {slns3[0][2]}\")\n",
    "print(f\"Z* = {zstar3}\")\n",
    "print(f\"{100 * ( slns3[0][1]/zstar3-1):.2f}% larger than z*\")"
   ]
  },
  {
   "cell_type": "markdown",
   "metadata": {},
   "source": [
    "## Improvement Heuristic"
   ]
  },
  {
   "cell_type": "markdown",
   "metadata": {},
   "source": [
    "Starting Solution:"
   ]
  },
  {
   "cell_type": "code",
   "execution_count": null,
   "metadata": {},
   "outputs": [],
   "source": [
    "slns3[0]"
   ]
  },
  {
   "cell_type": "markdown",
   "metadata": {},
   "source": [
    "**1-1 Exchange Neighborhood** is used in the solution. Function used for moving to the best solution in the 1-1 Exchange neighborhood of a predetermined solution is given below: "
   ]
  },
  {
   "cell_type": "code",
   "execution_count": null,
   "metadata": {},
   "outputs": [],
   "source": [
    "tstart = time.process_time_ns()\n",
    "\n",
    "random.seed(26)\n",
    "slns3 = OneOneExchangeLocalSearch(ProbDataSets[2], slns3, 300) # Run algorithm with 5 min time limit\n",
    "\n",
    "tend = time.process_time_ns()\n",
    "print(f\"Executed in {1.e-9*(tend - tstart)} CPU*seconds.\")"
   ]
  },
  {
   "cell_type": "markdown",
   "metadata": {},
   "source": [
    "Iterations"
   ]
  },
  {
   "cell_type": "code",
   "execution_count": null,
   "metadata": {
    "scrolled": false
   },
   "outputs": [],
   "source": [
    "[sln[1] for sln in slns3 ]"
   ]
  },
  {
   "cell_type": "markdown",
   "metadata": {},
   "source": [
    "Print Solution"
   ]
  },
  {
   "cell_type": "code",
   "execution_count": null,
   "metadata": {},
   "outputs": [],
   "source": [
    "print(\"X = {\",end=\"\")\n",
    "for key in slns3[-1][0].keys():\n",
    "    print(f\"\\n( {key}, {set([j for j in slns3[-1][0][key]])} ),\",end=\"\")\n",
    "print(\"\\b\\n}\")\n",
    "print(f\"Z = {slns3[-1][1]}\")\n",
    "print(f\"Crem = {slns3[-1][2]}\")\n",
    "print(f\"Z* = {zstar3}\")\n",
    "print(f\"{100 * ( slns3[-1][1]/zstar3-1):.2f}% larger than z*\")"
   ]
  }
 ],
 "metadata": {
  "kernelspec": {
   "display_name": "Python 3",
   "language": "python",
   "name": "python3"
  },
  "language_info": {
   "codemirror_mode": {
    "name": "ipython",
    "version": 3
   },
   "file_extension": ".py",
   "mimetype": "text/x-python",
   "name": "python",
   "nbconvert_exporter": "python",
   "pygments_lexer": "ipython3",
   "version": "3.8.3"
  }
 },
 "nbformat": 4,
 "nbformat_minor": 4
}
