{
 "cells": [
  {
   "cell_type": "markdown",
   "metadata": {},
   "source": [
    "# Read and Prepare Data"
   ]
  },
  {
   "cell_type": "code",
   "execution_count": 1,
   "metadata": {},
   "outputs": [],
   "source": [
    "import math\n",
    "import re\n",
    "import os\n",
    "import random\n",
    "import numpy as np\n",
    "import pandas as pd\n",
    "import time\n",
    "from datetime import datetime\n",
    "from matplotlib import pyplot as plt"
   ]
  },
  {
   "cell_type": "code",
   "execution_count": 2,
   "metadata": {},
   "outputs": [],
   "source": [
    "# Reading from txt file and saving it into rows variable as a list of rows\n",
    "fdir = \"dataset-TSPP.xls\"\n",
    "problems = [\"eil51\",\"eil76\",\"eil101\"]\n",
    "data = list()\n",
    "for i in range(3):\n",
    "    data += [pd.read_excel(fdir,problems[i]).iloc[:,1:5]]"
   ]
  },
  {
   "cell_type": "markdown",
   "metadata": {},
   "source": [
    "# Algorithm Classes "
   ]
  },
  {
   "cell_type": "code",
   "execution_count": 3,
   "metadata": {
    "code_folding": [
     0
    ]
   },
   "outputs": [],
   "source": [
    "def dist(x,y = 0):\n",
    "    return np.sqrt( np.sum((x - y)**2) )"
   ]
  },
  {
   "cell_type": "code",
   "execution_count": 4,
   "metadata": {
    "code_folding": [
     2,
     28,
     32
    ]
   },
   "outputs": [],
   "source": [
    "# Attributes: name, n, coords, profits, DistMat\n",
    "# Methods: CreateDistMat()\n",
    "class Problem():\n",
    "    def __init__(self, Data, PrName, LH = 0):\n",
    "        typ = \"Low\" if LH == 0 else \"High\"\n",
    "        self.name = f\"{PrName}{typ}\"\n",
    "        # Node 0 is duplicated as node n\n",
    "        self.n = Data.shape[0] + 1\n",
    "        self.coords = Data.iloc[:,0:2]\n",
    "        self.coords = pd.concat([self.coords ,self.coords.loc[[0],:]])\n",
    "        self.profits = Data[typ]\n",
    "        self.profits = pd.concat([self.profits ,self.profits[0:1]])\n",
    "        self.DistMat = self.CreateDistMat()\n",
    "        \n",
    "    def CreateDistMat(self):\n",
    "        dist = np.sqrt(\\\n",
    "            np.power(\n",
    "            np.diag (self.coords[\"x\"] ) @ np.matrix( self.n*self.n *[1] ).reshape(self.n,-1) -\\\n",
    "            np.matrix( self.n*self.n *[1] ).reshape(self.n,-1) @ np.diag(self.coords[\"x\"] ), 2) +\\\n",
    "            \\\n",
    "            np.power(\\\n",
    "            np.diag (self.coords[\"y\"] ) @ np.matrix( self.n*self.n *[1] ).reshape(self.n,-1) -\\\n",
    "            np.matrix( self.n*self.n *[1] ).reshape(self.n,-1) @ np.diag(self.coords[\"y\"] ), 2)\\\n",
    "                     )\n",
    "        dist += np.diag(self.n * [float('inf')])\n",
    "        dist[:,0] = float('inf')\n",
    "        return np.around(dist,2)\n",
    "            \n",
    "    def __repr__(self):\n",
    "        rep = f\"{self.name} TSPP Problem\"\n",
    "        return rep\n",
    "    \n",
    "    def __str__(self):\n",
    "        return self.__repr__()"
   ]
  },
  {
   "cell_type": "code",
   "execution_count": 5,
   "metadata": {
    "code_folding": [
     2,
     3,
     7
    ]
   },
   "outputs": [],
   "source": [
    "# Attributes: prob, T\n",
    "# Methods: Solve()\n",
    "class NNsolver():\n",
    "    def __init__(self, prob):\n",
    "        self.prob = prob\n",
    "        self.T = Tour(self.prob)\n",
    "        \n",
    "    def Solve(self):\n",
    "        while not self.T.isComp :\n",
    "            options = pd.Series(self.T.UpdatedCostMat[self.T[-1],:])\n",
    "            nxt = options.drop(self.T.nodes).idxmin()\n",
    "            self.T.add(nxt)\n",
    "        return self.T\n",
    "            \n",
    "    def __repr__(self):\n",
    "        rep = f\"NN Heuristic\\nSol:{self.T}\"\n",
    "        return rep\n",
    "    \n",
    "    def __str__(self):\n",
    "        return self.__repr__()"
   ]
  },
  {
   "cell_type": "code",
   "execution_count": 6,
   "metadata": {
    "code_folding": [
     2,
     33,
     53,
     58,
     64
    ]
   },
   "outputs": [],
   "source": [
    "# Attributes: prob, nodes, isComp, UpdatedCostMat\n",
    "# Methods: add(), unvisited(), L(), z(), CandList(), LocPherUpd()\n",
    "class Tour():\n",
    "    def __init__(self, prob, nodes = [], isComp = False):\n",
    "        self.prob = prob\n",
    "        self.isComp = isComp\n",
    "        \n",
    "        if type(nodes) in [np.int64,np.int32,int]: nodes=[nodes]\n",
    "        self.nodes = list(pd.unique(nodes))\n",
    "        if len(self.nodes) < 1: self.nodes = [0] + self.nodes\n",
    "        elif self.nodes[0] != 0: self.nodes = [0] + self.nodes\n",
    "        if isComp and self.nodes[-1] != [self.prob.n-1]:\n",
    "            self.nodes += [self.prob.n-1]\n",
    "        \n",
    "        self.UpdatedCostMat = self.prob.DistMat.copy()\n",
    "        self.UpdateCostMatrix()\n",
    "        \n",
    "    def add(self, newNodes):\n",
    "        if self.isComp:\n",
    "            return\n",
    "        if type(newNodes) in [np.int64,np.int32,int] : newNodes=[newNodes]\n",
    "        newNodes = list(pd.unique(newNodes))\n",
    "        newNodes = [node for node in newNodes if node not in self.nodes]\n",
    "        if newNodes==[]:\n",
    "            print(\"No Node can be added!\")\n",
    "            return\n",
    "        \n",
    "        self.nodes += newNodes\n",
    "        if self.prob.n-1 in self.nodes:\n",
    "            self.isComp = True\n",
    "            self.__repr__()\n",
    "        self.UpdateCostMatrix()\n",
    "        \n",
    "    def CandList(self, cl):\n",
    "        i = self.nodes[-1]\n",
    "        return [j for j in range(self.prob.n)\\\n",
    "         if self.UpdatedCostMat[i,j] in np.sort(self.UpdatedCostMat[i,:])[:cl]][:cl]\n",
    "    \n",
    "    def L(self):\n",
    "        if len(self.nodes)>1:\n",
    "            res = np.sum(self.UpdatedCostMat[(self.nodes[:-1],self.nodes[1:])])\n",
    "        else: res = 0\n",
    "        return np.round(res,2)\n",
    "    \n",
    "    def z(self):\n",
    "        res = self.L() - np.array(self.prob.profits).sum()\n",
    "        return np.round(-res,2)\n",
    "    \n",
    "    def UpdateCostMatrix(self):\n",
    "        TotalProf = np.array(self.prob.profits).sum()\n",
    "        EarnedProf = np.array(self.prob.profits)[self.nodes].sum()\n",
    "        self.UpdatedCostMat[:,-1] = self.prob.DistMat[:,-1] + TotalProf - EarnedProf\n",
    "    \n",
    "    def unvisited(self):\n",
    "        allNodes = list(range(self.prob.n))\n",
    "        unvisited = [n for n in allNodes if n not in self.nodes]\n",
    "        return unvisited\n",
    "    \n",
    "    def __getitem__(self, key):\n",
    "        if key < len(self.nodes):\n",
    "            return self.nodes[key]\n",
    "        else:\n",
    "            print(\"key out of bounds!\")\n",
    "    \n",
    "    def __repr__(self):\n",
    "        rep = f\"L={self.L()} z={self.z()}\"\n",
    "        if self.isComp:\n",
    "            rep += f\"\\nComplete\"\n",
    "        else: rep += f\"\\nNOT complete\"   \n",
    "        return rep\n",
    "    \n",
    "    def __str__(self):\n",
    "        return self.__repr__()"
   ]
  },
  {
   "cell_type": "code",
   "execution_count": 7,
   "metadata": {
    "code_folding": [
     2,
     3,
     28
    ]
   },
   "outputs": [],
   "source": [
    "# Attributes: T\n",
    "# Methods: Move(), LocalPhmoneUpd()\n",
    "class Ant():\n",
    "    def __init__(self, prob, InitNode):\n",
    "        self.T = Tour(prob, InitNode)\n",
    "        \n",
    "    def Move(self, PhmoneMatrix, q0, alpha, beta, cl, rho, tau0):\n",
    "        i = self.T[-1]\n",
    "        opts = set(self.T.CandList(cl)).intersection(self.T.unvisited())\n",
    "        if opts == set():\n",
    "            nxt = pd.Series(self.T.UpdatedCostMat[i,:])[self.T.unvisited()].idxmin()\n",
    "        elif len(opts) == 1:\n",
    "            nxt = list(opts)\n",
    "        else:\n",
    "            visibs = 1/pd.Series(self.T.UpdatedCostMat[i,:]); visibs = visibs[list(opts)]\n",
    "            phmones = pd.Series(np.array(PhmoneMatrix[i,:])[0]); phmones = phmones[list(opts)]\n",
    "            RawP = phmones.pow(alpha)*visibs.pow(beta)\n",
    "            if np.random.random() <= q0:\n",
    "                nxt = RawP.idxmax()\n",
    "            else:\n",
    "                p = RawP/RawP.sum()\n",
    "                nxt = np.random.choice(list(opts), 1, replace = False,p = p)\n",
    "        self.T.add(nxt)\n",
    "        self.LocalPhmoneUpd(PhmoneMatrix, (i,nxt), rho, tau0)\n",
    "\n",
    "    def LocalPhmoneUpd(self, PhmoneMatrix, arc, rho, tau0):\n",
    "        PhmoneMatrix[arc] = PhmoneMatrix[arc]*(1-rho) + rho*tau0\n",
    "    \n",
    "    def __repr__(self):\n",
    "        rep = f\"Ant traversed {len(self.T.nodes)} nodes.\\nL={self.T.L()}\"   \n",
    "        return rep\n",
    "    \n",
    "    def __str__(self):\n",
    "        return self.__repr__()"
   ]
  },
  {
   "cell_type": "code",
   "execution_count": 8,
   "metadata": {
    "code_folding": [
     2,
     21,
     46,
     53
    ]
   },
   "outputs": [],
   "source": [
    "# Attributes: prob, ants, phmones, [m, alpha, beta, rho, tau0, q0, cl, MaxIter], Tplus, Lplus\n",
    "# Members: Solve(), InitGen()\n",
    "class ACSsolver():\n",
    "    def __init__(self, prob, params):\n",
    "        self.m, self.alpha, self.beta, self.rho,\\\n",
    "        self.tau0, self.q0, self.cl, self.MaxIter = params\n",
    "        self.prob = prob\n",
    "        \n",
    "        self.phmones = np.matrix(self.prob.n*self.prob.n*[self.tau0]).reshape(self.prob.n,-1)\n",
    "        self.phmones[:,0] = 0\n",
    "        self.phmones = self.phmones - np.diag(np.diag(self.phmones))\n",
    "        \n",
    "        self.ants = list()\n",
    "        initNodes = np.random.choice(range(1,self.prob.n-1),self.m,replace=False)\n",
    "        \n",
    "        for i in range(self.m): self.ants += [Ant(self.prob, initNodes[i])]\n",
    "        self.Tplus = list()\n",
    "        self.Lplus = list()\n",
    "        self.Tplus += [Tour(self.prob, np.random.choice(range(1,self.prob.n-1),self.prob.n-1) , isComp=True)]\n",
    "        self.Lplus += [self.Tplus[-1].L()]\n",
    "        \n",
    "    def Solve(self):\n",
    "        itr = 0\n",
    "        while itr < self.MaxIter:\n",
    "            itr +=1\n",
    "            self.MoveAnts()\n",
    "            self.UpdateTplus()\n",
    "            self.GlobalPhmoneUpdate()\n",
    "        print(f\"L+={self.Tplus[-1].L()}\")\n",
    "        print(f\"z+={self.Tplus[-1].z()}\")\n",
    "        print(f\"Visited {len(self.Tplus[-1].nodes)} nodes.\")\n",
    "        \n",
    "    def MoveAnts(self):\n",
    "        for ant in self.ants:\n",
    "            for step in range(1,self.prob.n-1):\n",
    "                if ant.T.isComp == False:\n",
    "                    ant.Move(self.phmones, self.q0, self.alpha, self.beta, self.cl, self.rho, self.tau0)\n",
    "                        \n",
    "    def UpdateTplus(self):\n",
    "        TplusNew = self.Tplus[-1]\n",
    "        for ant in self.ants:\n",
    "            if ant.T.L() < self.Lplus[-1]:\n",
    "                TplusNew = ant.T\n",
    "        self.Tplus += [TplusNew]\n",
    "        self.Lplus += [TplusNew.L()]\n",
    "        \n",
    "    def GlobalPhmoneUpdate(self):\n",
    "        delta = 1/self.Lplus[-1]\n",
    "        for idx in range(len(self.Tplus[-1].nodes[:-1])):\n",
    "            i=self.Tplus[-1].nodes[idx]\n",
    "            j=self.Tplus[-1].nodes[idx+1]\n",
    "            self.phmones[i,j] = self.phmones[i,j]*(1-self.rho) + delta*self.rho\n",
    "    \n",
    "    def __repr__(self):\n",
    "        rep = f\"ACS Solver\\nzPlus={self.Tplus[-1].z()}\"\n",
    "        return rep\n",
    "    \n",
    "    def __str__(self):\n",
    "        return self.__repr__()"
   ]
  },
  {
   "cell_type": "markdown",
   "metadata": {},
   "source": [
    "# Running Algorithm "
   ]
  },
  {
   "cell_type": "code",
   "execution_count": 9,
   "metadata": {},
   "outputs": [],
   "source": [
    "prList = list()\n",
    "for i in range(3):\n",
    "    prList += [Problem(data[i],problems[i],0)]\n",
    "    prList += [Problem(data[i],problems[i],1)]"
   ]
  },
  {
   "cell_type": "code",
   "execution_count": 10,
   "metadata": {
    "code_folding": [
     2
    ]
   },
   "outputs": [],
   "source": [
    "LNN = list()\n",
    "tau0 = list()\n",
    "for p in prList:\n",
    "    nnObj = NNsolver(p)\n",
    "    nnObj.Solve()\n",
    "    LNN += [np.round(nnObj.T.L(),2)]\n",
    "    tau0 += [1/(p.n*LNN[-1])]"
   ]
  },
  {
   "cell_type": "code",
   "execution_count": 11,
   "metadata": {},
   "outputs": [],
   "source": [
    "acsObj = list()"
   ]
  },
  {
   "cell_type": "markdown",
   "metadata": {},
   "source": [
    "## eil51 Low Demand"
   ]
  },
  {
   "cell_type": "code",
   "execution_count": 12,
   "metadata": {},
   "outputs": [],
   "source": [
    "probNo = 0"
   ]
  },
  {
   "cell_type": "code",
   "execution_count": 13,
   "metadata": {},
   "outputs": [],
   "source": [
    "#params=[m, alpha, beta, rho, tau0, q0, cl, MaxIter]\n",
    "params = [50,1,2,0.1,tau0[probNo],0.9,15,10000]"
   ]
  },
  {
   "cell_type": "code",
   "execution_count": 14,
   "metadata": {
    "scrolled": false
   },
   "outputs": [
    {
     "name": "stdout",
     "output_type": "stream",
     "text": [
      "L+=460.4\n",
      "z+=-69.4\n",
      "Visited 50 nodes.\n",
      "Executed in 16.234375 CPU*seconds.\n"
     ]
    }
   ],
   "source": [
    "tstart = time.process_time_ns()\n",
    "np.random.seed(13)\n",
    "acsObj += [ACSsolver(prList[probNo],params)]\n",
    "acsObj[-1].Solve()\n",
    "tend = time.process_time_ns()\n",
    "print(f\"Executed in {1.e-9*(tend - tstart)} CPU*seconds.\")"
   ]
  },
  {
   "cell_type": "markdown",
   "metadata": {},
   "source": [
    "## eil51 High Demand"
   ]
  },
  {
   "cell_type": "code",
   "execution_count": 15,
   "metadata": {},
   "outputs": [],
   "source": [
    "probNo+=1"
   ]
  },
  {
   "cell_type": "code",
   "execution_count": 16,
   "metadata": {},
   "outputs": [],
   "source": [
    "#params=[m, alpha, beta, rho, tau0, q0, cl, MaxIter]\n",
    "params = [50,1,2,0.1,tau0[probNo],0.9,15,500]"
   ]
  },
  {
   "cell_type": "code",
   "execution_count": 17,
   "metadata": {},
   "outputs": [
    {
     "name": "stdout",
     "output_type": "stream",
     "text": [
      "L+=476.4\n",
      "z+=107.6\n",
      "Visited 50 nodes.\n",
      "Executed in 4.203125 CPU*seconds.\n"
     ]
    }
   ],
   "source": [
    "tstart = time.process_time_ns()\n",
    "np.random.seed(13)\n",
    "acsObj += [ACSsolver(prList[probNo],params)]\n",
    "acsObj[-1].Solve()\n",
    "tend = time.process_time_ns()\n",
    "print(f\"Executed in {1.e-9*(tend - tstart)} CPU*seconds.\")"
   ]
  },
  {
   "cell_type": "markdown",
   "metadata": {},
   "source": [
    "## eil76 Low Demand"
   ]
  },
  {
   "cell_type": "code",
   "execution_count": 18,
   "metadata": {},
   "outputs": [],
   "source": [
    "probNo+=1"
   ]
  },
  {
   "cell_type": "code",
   "execution_count": 19,
   "metadata": {},
   "outputs": [],
   "source": [
    "#params=[m, alpha, beta, rho, tau0, q0, cl, MaxIter]\n",
    "params = [75,1,2,0.1,tau0[probNo],0.9,15,500]"
   ]
  },
  {
   "cell_type": "code",
   "execution_count": 20,
   "metadata": {},
   "outputs": [
    {
     "name": "stdout",
     "output_type": "stream",
     "text": [
      "L+=588.77\n",
      "z+=-89.77\n",
      "Visited 73 nodes.\n",
      "Executed in 11.25 CPU*seconds.\n"
     ]
    }
   ],
   "source": [
    "tstart = time.process_time_ns()\n",
    "np.random.seed(13)\n",
    "acsObj += [ACSsolver(prList[probNo],params)]\n",
    "acsObj[-1].Solve()\n",
    "tend = time.process_time_ns()\n",
    "print(f\"Executed in {1.e-9*(tend - tstart)} CPU*seconds.\")"
   ]
  },
  {
   "cell_type": "markdown",
   "metadata": {},
   "source": [
    "## eil76 High Demand"
   ]
  },
  {
   "cell_type": "code",
   "execution_count": 21,
   "metadata": {},
   "outputs": [],
   "source": [
    "probNo+=1"
   ]
  },
  {
   "cell_type": "code",
   "execution_count": 22,
   "metadata": {},
   "outputs": [],
   "source": [
    "#params=[m, alpha, beta, rho, tau0, q0, cl, MaxIter]\n",
    "params = [75,1,2,0.1,tau0[3],0.9,15,500]"
   ]
  },
  {
   "cell_type": "code",
   "execution_count": 23,
   "metadata": {},
   "outputs": [
    {
     "name": "stdout",
     "output_type": "stream",
     "text": [
      "L+=626.83\n",
      "z+=323.17\n",
      "Visited 76 nodes.\n",
      "Executed in 11.3125 CPU*seconds.\n"
     ]
    }
   ],
   "source": [
    "tstart = time.process_time_ns()\n",
    "np.random.seed(13)\n",
    "acsObj += [ACSsolver(prList[probNo],params)]\n",
    "acsObj[-1].Solve()\n",
    "tend = time.process_time_ns()\n",
    "print(f\"Executed in {1.e-9*(tend - tstart)} CPU*seconds.\")"
   ]
  },
  {
   "cell_type": "markdown",
   "metadata": {},
   "source": [
    "## eil101 Low Demand"
   ]
  },
  {
   "cell_type": "code",
   "execution_count": 24,
   "metadata": {},
   "outputs": [],
   "source": [
    "probNo+=1"
   ]
  },
  {
   "cell_type": "code",
   "execution_count": 25,
   "metadata": {},
   "outputs": [],
   "source": [
    "#params=[m, alpha, beta, rho, tau0, q0, cl, MaxIter]\n",
    "params = [100,1,2,0.1,tau0[0],0.9,15,500]"
   ]
  },
  {
   "cell_type": "code",
   "execution_count": 26,
   "metadata": {},
   "outputs": [
    {
     "name": "stdout",
     "output_type": "stream",
     "text": [
      "L+=718.53\n",
      "z+=109.47\n",
      "Visited 99 nodes.\n",
      "Executed in 25.171875 CPU*seconds.\n"
     ]
    }
   ],
   "source": [
    "tstart = time.process_time_ns()\n",
    "np.random.seed(13)\n",
    "acsObj += [ACSsolver(prList[probNo],params)]\n",
    "acsObj[-1].Solve()\n",
    "tend = time.process_time_ns()\n",
    "print(f\"Executed in {1.e-9*(tend - tstart)} CPU*seconds.\")"
   ]
  },
  {
   "cell_type": "markdown",
   "metadata": {},
   "source": [
    "## eil101 High Demand"
   ]
  },
  {
   "cell_type": "code",
   "execution_count": 27,
   "metadata": {},
   "outputs": [],
   "source": [
    "probNo+=1"
   ]
  },
  {
   "cell_type": "code",
   "execution_count": 28,
   "metadata": {},
   "outputs": [],
   "source": [
    "#params=[m, alpha, beta, rho, tau0, q0, cl, MaxIter]\n",
    "params = [100,1,2,0.1,tau0[0],0.9,15,500]"
   ]
  },
  {
   "cell_type": "code",
   "execution_count": 29,
   "metadata": {},
   "outputs": [
    {
     "name": "stdout",
     "output_type": "stream",
     "text": [
      "L+=778.01\n",
      "z+=1500.99\n",
      "Visited 101 nodes.\n",
      "Executed in 25.109375 CPU*seconds.\n"
     ]
    }
   ],
   "source": [
    "tstart = time.process_time_ns()\n",
    "np.random.seed(13)\n",
    "acsObj += [ACSsolver(prList[probNo],params)]\n",
    "acsObj[-1].Solve()\n",
    "tend = time.process_time_ns()\n",
    "print(f\"Executed in {1.e-9*(tend - tstart)} CPU*seconds.\")"
   ]
  },
  {
   "cell_type": "markdown",
   "metadata": {},
   "source": [
    "## Solutions "
   ]
  },
  {
   "cell_type": "code",
   "execution_count": 30,
   "metadata": {},
   "outputs": [
    {
     "name": "stdout",
     "output_type": "stream",
     "text": [
      "[0, 31, 10, 37, 4, 48, 8, 49, 1, 15, 28, 20, 33, 29, 9, 38, 32, 44, 14, 43, 36, 16, 3, 46, 11, 17, 13, 24, 12, 40, 18, 41, 39, 50, 45, 26, 47, 5, 22, 6, 25, 7, 30, 27, 2, 19, 34, 35, 21, 51]\n",
      "[0, 31, 10, 37, 4, 48, 8, 49, 1, 15, 28, 20, 33, 29, 9, 38, 32, 44, 14, 43, 36, 16, 3, 46, 11, 17, 13, 24, 12, 40, 18, 41, 39, 50, 45, 26, 47, 5, 22, 6, 25, 7, 30, 27, 2, 19, 34, 35, 21, 51]\n",
      "[0, 55, 22, 42, 40, 41, 63, 21, 61, 72, 32, 62, 15, 48, 23, 17, 49, 31, 43, 2, 50, 5, 67, 74, 75, 66, 33, 45, 7, 34, 6, 52, 13, 58, 10, 64, 37, 9, 57, 71, 38, 8, 39, 11, 16, 25, 3, 44, 26, 51, 12, 53, 18, 56, 14, 28, 47, 46, 20, 73, 27, 1, 29, 4, 36, 35, 70, 59, 69, 19, 68, 60, 76]\n",
      "[0, 62, 32, 72, 61, 27, 20, 47, 46, 35, 70, 59, 69, 19, 36, 4, 14, 56, 12, 26, 51, 33, 45, 7, 34, 6, 52, 13, 18, 53, 44, 28, 29, 73, 1, 67, 74, 75, 3, 66, 25, 11, 39, 16, 5, 50, 15, 2, 43, 31, 8, 38, 71, 57, 9, 37, 64, 10, 65, 58, 30, 24, 49, 17, 23, 48, 22, 55, 40, 42, 41, 63, 21, 60, 68, 76]\n",
      "[0, 2, 76, 75, 49, 32, 80, 8, 50, 19, 29, 69, 30, 87, 6, 81, 47, 46, 35, 48, 18, 10, 61, 9, 89, 62, 31, 65, 70, 34, 33, 78, 11, 79, 67, 28, 23, 53, 54, 24, 38, 55, 74, 73, 71, 72, 20, 39, 57, 12, 93, 5, 95, 98, 58, 91, 36, 97, 99, 90, 84, 92, 60, 15, 43, 13, 41, 86, 96, 94, 88, 17, 82, 59, 4, 83, 44, 7, 45, 16, 85, 37, 42, 14, 56, 1, 21, 40, 22, 66, 3, 25, 27, 100, 52, 26, 68, 51, 101]\n",
      "[0, 36, 90, 91, 58, 98, 95, 93, 5, 88, 17, 82, 59, 4, 83, 16, 60, 15, 92, 84, 97, 99, 41, 86, 96, 94, 12, 57, 39, 52, 100, 26, 27, 25, 11, 79, 67, 76, 2, 75, 49, 32, 80, 8, 50, 19, 29, 69, 30, 87, 6, 81, 47, 46, 35, 48, 18, 10, 61, 9, 89, 62, 31, 65, 64, 70, 34, 33, 77, 78, 28, 23, 53, 54, 24, 38, 55, 74, 73, 21, 40, 72, 71, 20, 3, 22, 66, 1, 56, 14, 42, 13, 43, 85, 37, 44, 7, 45, 51, 68, 101]\n"
     ]
    }
   ],
   "source": [
    "for solver in acsObj:\n",
    "    print(solver.Tplus[-1].nodes)"
   ]
  }
 ],
 "metadata": {
  "kernelspec": {
   "display_name": "Python 3",
   "language": "python",
   "name": "python3"
  },
  "language_info": {
   "codemirror_mode": {
    "name": "ipython",
    "version": 3
   },
   "file_extension": ".py",
   "mimetype": "text/x-python",
   "name": "python",
   "nbconvert_exporter": "python",
   "pygments_lexer": "ipython3",
   "version": "3.8.3"
  },
  "varInspector": {
   "cols": {
    "lenName": 16,
    "lenType": 16,
    "lenVar": 40
   },
   "kernels_config": {
    "python": {
     "delete_cmd_postfix": "",
     "delete_cmd_prefix": "del ",
     "library": "var_list.py",
     "varRefreshCmd": "print(var_dic_list())"
    },
    "r": {
     "delete_cmd_postfix": ") ",
     "delete_cmd_prefix": "rm(",
     "library": "var_list.r",
     "varRefreshCmd": "cat(var_dic_list()) "
    }
   },
   "types_to_exclude": [
    "module",
    "function",
    "builtin_function_or_method",
    "instance",
    "_Feature"
   ],
   "window_display": false
  }
 },
 "nbformat": 4,
 "nbformat_minor": 4
}
